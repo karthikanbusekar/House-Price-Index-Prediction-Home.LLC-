{
 "cells": [
  {
   "cell_type": "markdown",
   "id": "b1abed24",
   "metadata": {},
   "source": [
    "# <font color= Blue ><center>Home Price Index</center></color>"
   ]
  },
  {
   "cell_type": "markdown",
   "id": "63b76140",
   "metadata": {},
   "source": [
    "### Problem Statement : \n",
    "Find publicly available data for key supply-demand factors that influence US home prices \n",
    "nationally. Then, build a data science model that explains how these factors impacted home prices over the last 20 yea"
   ]
  },
  {
   "cell_type": "code",
   "execution_count": 28,
   "id": "4b584108",
   "metadata": {},
   "outputs": [],
   "source": [
    "import numpy as np\n",
    "import pandas as pd\n",
    "import matplotlib.pyplot as plt\n",
    "%matplotlib inline\n",
    "import seaborn as sns\n",
    "import warnings\n",
    "warnings.filterwarnings('ignore')"
   ]
  },
  {
   "cell_type": "code",
   "execution_count": 29,
   "id": "67659814",
   "metadata": {
    "scrolled": true
   },
   "outputs": [],
   "source": [
    "df=pd.read_excel('HPI_Dataset.xlsx')"
   ]
  },
  {
   "cell_type": "markdown",
   "id": "14e3bc8a",
   "metadata": {},
   "source": [
    "### Sample of the dataset"
   ]
  },
  {
   "cell_type": "code",
   "execution_count": 30,
   "id": "c89240f0",
   "metadata": {},
   "outputs": [
    {
     "data": {
      "text/html": [
       "<div>\n",
       "<style scoped>\n",
       "    .dataframe tbody tr th:only-of-type {\n",
       "        vertical-align: middle;\n",
       "    }\n",
       "\n",
       "    .dataframe tbody tr th {\n",
       "        vertical-align: top;\n",
       "    }\n",
       "\n",
       "    .dataframe thead th {\n",
       "        text-align: right;\n",
       "    }\n",
       "</style>\n",
       "<table border=\"1\" class=\"dataframe\">\n",
       "  <thead>\n",
       "    <tr style=\"text-align: right;\">\n",
       "      <th></th>\n",
       "      <th>Date</th>\n",
       "      <th>Unemployment_Rate</th>\n",
       "      <th>GDP</th>\n",
       "      <th>Personal_Tax</th>\n",
       "      <th>Mortgage_rate</th>\n",
       "      <th>Recession</th>\n",
       "      <th>Construction_Spending</th>\n",
       "      <th>No_of_PERMIT</th>\n",
       "      <th>Population</th>\n",
       "      <th>Life_Expectancy</th>\n",
       "      <th>CPI</th>\n",
       "      <th>HPI</th>\n",
       "    </tr>\n",
       "  </thead>\n",
       "  <tbody>\n",
       "    <tr>\n",
       "      <th>0</th>\n",
       "      <td>2000-01-01</td>\n",
       "      <td>4.033333</td>\n",
       "      <td>10002.179</td>\n",
       "      <td>681.0</td>\n",
       "      <td>8.256923</td>\n",
       "      <td>0.0</td>\n",
       "      <td>796045.333333</td>\n",
       "      <td>1690.000000</td>\n",
       "      <td>281304.333333</td>\n",
       "      <td>76.636585</td>\n",
       "      <td>167.166667</td>\n",
       "      <td>101.339000</td>\n",
       "    </tr>\n",
       "    <tr>\n",
       "      <th>1</th>\n",
       "      <td>2000-04-01</td>\n",
       "      <td>3.933333</td>\n",
       "      <td>10247.720</td>\n",
       "      <td>681.0</td>\n",
       "      <td>8.316154</td>\n",
       "      <td>0.0</td>\n",
       "      <td>801727.333333</td>\n",
       "      <td>1570.666667</td>\n",
       "      <td>282002.000000</td>\n",
       "      <td>76.636585</td>\n",
       "      <td>168.466667</td>\n",
       "      <td>103.675000</td>\n",
       "    </tr>\n",
       "    <tr>\n",
       "      <th>2</th>\n",
       "      <td>2000-07-01</td>\n",
       "      <td>4.000000</td>\n",
       "      <td>10318.165</td>\n",
       "      <td>681.0</td>\n",
       "      <td>8.020000</td>\n",
       "      <td>0.0</td>\n",
       "      <td>801155.333333</td>\n",
       "      <td>1554.666667</td>\n",
       "      <td>282768.666667</td>\n",
       "      <td>76.636585</td>\n",
       "      <td>170.400000</td>\n",
       "      <td>105.786667</td>\n",
       "    </tr>\n",
       "    <tr>\n",
       "      <th>3</th>\n",
       "      <td>2000-10-01</td>\n",
       "      <td>3.900000</td>\n",
       "      <td>10435.744</td>\n",
       "      <td>681.0</td>\n",
       "      <td>7.620769</td>\n",
       "      <td>0.0</td>\n",
       "      <td>815890.000000</td>\n",
       "      <td>1578.000000</td>\n",
       "      <td>283518.666667</td>\n",
       "      <td>76.636585</td>\n",
       "      <td>172.266667</td>\n",
       "      <td>108.274667</td>\n",
       "    </tr>\n",
       "    <tr>\n",
       "      <th>4</th>\n",
       "      <td>2001-01-01</td>\n",
       "      <td>4.233333</td>\n",
       "      <td>10470.231</td>\n",
       "      <td>696.0</td>\n",
       "      <td>7.006923</td>\n",
       "      <td>1.0</td>\n",
       "      <td>818727.666667</td>\n",
       "      <td>1671.333333</td>\n",
       "      <td>284168.666667</td>\n",
       "      <td>76.836585</td>\n",
       "      <td>174.900000</td>\n",
       "      <td>110.485333</td>\n",
       "    </tr>\n",
       "  </tbody>\n",
       "</table>\n",
       "</div>"
      ],
      "text/plain": [
       "        Date  Unemployment_Rate        GDP  Personal_Tax  Mortgage_rate   \\\n",
       "0 2000-01-01           4.033333  10002.179         681.0        8.256923   \n",
       "1 2000-04-01           3.933333  10247.720         681.0        8.316154   \n",
       "2 2000-07-01           4.000000  10318.165         681.0        8.020000   \n",
       "3 2000-10-01           3.900000  10435.744         681.0        7.620769   \n",
       "4 2001-01-01           4.233333  10470.231         696.0        7.006923   \n",
       "\n",
       "   Recession  Construction_Spending  No_of_PERMIT    Population   \\\n",
       "0        0.0          796045.333333   1690.000000  281304.333333   \n",
       "1        0.0          801727.333333   1570.666667  282002.000000   \n",
       "2        0.0          801155.333333   1554.666667  282768.666667   \n",
       "3        0.0          815890.000000   1578.000000  283518.666667   \n",
       "4        1.0          818727.666667   1671.333333  284168.666667   \n",
       "\n",
       "   Life_Expectancy         CPI         HPI  \n",
       "0        76.636585  167.166667  101.339000  \n",
       "1        76.636585  168.466667  103.675000  \n",
       "2        76.636585  170.400000  105.786667  \n",
       "3        76.636585  172.266667  108.274667  \n",
       "4        76.836585  174.900000  110.485333  "
      ]
     },
     "execution_count": 30,
     "metadata": {},
     "output_type": "execute_result"
    }
   ],
   "source": [
    "df.head()"
   ]
  },
  {
   "cell_type": "code",
   "execution_count": 31,
   "id": "9e1446f9",
   "metadata": {},
   "outputs": [
    {
     "data": {
      "text/plain": [
       "(94, 12)"
      ]
     },
     "execution_count": 31,
     "metadata": {},
     "output_type": "execute_result"
    }
   ],
   "source": [
    "df.shape"
   ]
  },
  {
   "cell_type": "code",
   "execution_count": 32,
   "id": "e9122780",
   "metadata": {},
   "outputs": [
    {
     "name": "stdout",
     "output_type": "stream",
     "text": [
      "<class 'pandas.core.frame.DataFrame'>\n",
      "RangeIndex: 94 entries, 0 to 93\n",
      "Data columns (total 12 columns):\n",
      " #   Column                 Non-Null Count  Dtype         \n",
      "---  ------                 --------------  -----         \n",
      " 0   Date                   94 non-null     datetime64[ns]\n",
      " 1   Unemployment_Rate      94 non-null     float64       \n",
      " 2   GDP                    94 non-null     float64       \n",
      " 3   Personal_Tax           92 non-null     float64       \n",
      " 4   Mortgage_rate          94 non-null     float64       \n",
      " 5   Recession              93 non-null     float64       \n",
      " 6   Construction_Spending  94 non-null     float64       \n",
      " 7   No_of_PERMIT           94 non-null     float64       \n",
      " 8   Population             94 non-null     float64       \n",
      " 9   Life_Expectancy        88 non-null     float64       \n",
      " 10  CPI                    94 non-null     float64       \n",
      " 11  HPI                    94 non-null     float64       \n",
      "dtypes: datetime64[ns](1), float64(11)\n",
      "memory usage: 8.9 KB\n"
     ]
    }
   ],
   "source": [
    "df.info()"
   ]
  },
  {
   "cell_type": "markdown",
   "id": "2d8ad132",
   "metadata": {},
   "source": [
    "### Datatype for each variable"
   ]
  },
  {
   "cell_type": "code",
   "execution_count": 33,
   "id": "169629aa",
   "metadata": {},
   "outputs": [
    {
     "data": {
      "text/html": [
       "<div>\n",
       "<style scoped>\n",
       "    .dataframe tbody tr th:only-of-type {\n",
       "        vertical-align: middle;\n",
       "    }\n",
       "\n",
       "    .dataframe tbody tr th {\n",
       "        vertical-align: top;\n",
       "    }\n",
       "\n",
       "    .dataframe thead th {\n",
       "        text-align: right;\n",
       "    }\n",
       "</style>\n",
       "<table border=\"1\" class=\"dataframe\">\n",
       "  <thead>\n",
       "    <tr style=\"text-align: right;\">\n",
       "      <th></th>\n",
       "      <th>Datatype</th>\n",
       "    </tr>\n",
       "  </thead>\n",
       "  <tbody>\n",
       "    <tr>\n",
       "      <th>Date</th>\n",
       "      <td>datetime64[ns]</td>\n",
       "    </tr>\n",
       "    <tr>\n",
       "      <th>Unemployment_Rate</th>\n",
       "      <td>float64</td>\n",
       "    </tr>\n",
       "    <tr>\n",
       "      <th>GDP</th>\n",
       "      <td>float64</td>\n",
       "    </tr>\n",
       "    <tr>\n",
       "      <th>Personal_Tax</th>\n",
       "      <td>float64</td>\n",
       "    </tr>\n",
       "    <tr>\n",
       "      <th>Mortgage_rate</th>\n",
       "      <td>float64</td>\n",
       "    </tr>\n",
       "    <tr>\n",
       "      <th>Recession</th>\n",
       "      <td>float64</td>\n",
       "    </tr>\n",
       "    <tr>\n",
       "      <th>Construction_Spending</th>\n",
       "      <td>float64</td>\n",
       "    </tr>\n",
       "    <tr>\n",
       "      <th>No_of_PERMIT</th>\n",
       "      <td>float64</td>\n",
       "    </tr>\n",
       "    <tr>\n",
       "      <th>Population</th>\n",
       "      <td>float64</td>\n",
       "    </tr>\n",
       "    <tr>\n",
       "      <th>Life_Expectancy</th>\n",
       "      <td>float64</td>\n",
       "    </tr>\n",
       "    <tr>\n",
       "      <th>CPI</th>\n",
       "      <td>float64</td>\n",
       "    </tr>\n",
       "    <tr>\n",
       "      <th>HPI</th>\n",
       "      <td>float64</td>\n",
       "    </tr>\n",
       "  </tbody>\n",
       "</table>\n",
       "</div>"
      ],
      "text/plain": [
       "                             Datatype\n",
       "Date                   datetime64[ns]\n",
       "Unemployment_Rate             float64\n",
       "GDP                           float64\n",
       "Personal_Tax                  float64\n",
       "Mortgage_rate                 float64\n",
       "Recession                     float64\n",
       "Construction_Spending         float64\n",
       "No_of_PERMIT                  float64\n",
       "Population                    float64\n",
       "Life_Expectancy               float64\n",
       "CPI                           float64\n",
       "HPI                           float64"
      ]
     },
     "execution_count": 33,
     "metadata": {},
     "output_type": "execute_result"
    }
   ],
   "source": [
    "pd.DataFrame(df.dtypes,columns=[\"Datatype\"])"
   ]
  },
  {
   "cell_type": "markdown",
   "id": "60f171ae",
   "metadata": {},
   "source": [
    "### Missing values in the dataset"
   ]
  },
  {
   "cell_type": "code",
   "execution_count": 34,
   "id": "79189610",
   "metadata": {},
   "outputs": [
    {
     "data": {
      "text/html": [
       "<div>\n",
       "<style scoped>\n",
       "    .dataframe tbody tr th:only-of-type {\n",
       "        vertical-align: middle;\n",
       "    }\n",
       "\n",
       "    .dataframe tbody tr th {\n",
       "        vertical-align: top;\n",
       "    }\n",
       "\n",
       "    .dataframe thead th {\n",
       "        text-align: right;\n",
       "    }\n",
       "</style>\n",
       "<table border=\"1\" class=\"dataframe\">\n",
       "  <thead>\n",
       "    <tr style=\"text-align: right;\">\n",
       "      <th></th>\n",
       "      <th>No.of.null values</th>\n",
       "    </tr>\n",
       "  </thead>\n",
       "  <tbody>\n",
       "    <tr>\n",
       "      <th>Date</th>\n",
       "      <td>0</td>\n",
       "    </tr>\n",
       "    <tr>\n",
       "      <th>Unemployment_Rate</th>\n",
       "      <td>0</td>\n",
       "    </tr>\n",
       "    <tr>\n",
       "      <th>GDP</th>\n",
       "      <td>0</td>\n",
       "    </tr>\n",
       "    <tr>\n",
       "      <th>Personal_Tax</th>\n",
       "      <td>2</td>\n",
       "    </tr>\n",
       "    <tr>\n",
       "      <th>Mortgage_rate</th>\n",
       "      <td>0</td>\n",
       "    </tr>\n",
       "    <tr>\n",
       "      <th>Recession</th>\n",
       "      <td>1</td>\n",
       "    </tr>\n",
       "    <tr>\n",
       "      <th>Construction_Spending</th>\n",
       "      <td>0</td>\n",
       "    </tr>\n",
       "    <tr>\n",
       "      <th>No_of_PERMIT</th>\n",
       "      <td>0</td>\n",
       "    </tr>\n",
       "    <tr>\n",
       "      <th>Population</th>\n",
       "      <td>0</td>\n",
       "    </tr>\n",
       "    <tr>\n",
       "      <th>Life_Expectancy</th>\n",
       "      <td>6</td>\n",
       "    </tr>\n",
       "    <tr>\n",
       "      <th>CPI</th>\n",
       "      <td>0</td>\n",
       "    </tr>\n",
       "    <tr>\n",
       "      <th>HPI</th>\n",
       "      <td>0</td>\n",
       "    </tr>\n",
       "  </tbody>\n",
       "</table>\n",
       "</div>"
      ],
      "text/plain": [
       "                       No.of.null values\n",
       "Date                                   0\n",
       "Unemployment_Rate                      0\n",
       "GDP                                    0\n",
       "Personal_Tax                           2\n",
       "Mortgage_rate                          0\n",
       "Recession                              1\n",
       "Construction_Spending                  0\n",
       "No_of_PERMIT                           0\n",
       "Population                             0\n",
       "Life_Expectancy                        6\n",
       "CPI                                    0\n",
       "HPI                                    0"
      ]
     },
     "execution_count": 34,
     "metadata": {},
     "output_type": "execute_result"
    }
   ],
   "source": [
    "pd.DataFrame(df.isnull().sum(),columns=[\"No.of.null values\"])"
   ]
  },
  {
   "cell_type": "code",
   "execution_count": 35,
   "id": "572b7cbd",
   "metadata": {},
   "outputs": [
    {
     "data": {
      "text/plain": [
       "0"
      ]
     },
     "execution_count": 35,
     "metadata": {},
     "output_type": "execute_result"
    }
   ],
   "source": [
    "df.duplicated().sum()"
   ]
  },
  {
   "cell_type": "markdown",
   "id": "ba1c1754",
   "metadata": {},
   "source": [
    "* There are total 94 rows and 12 columns in the dataset.  \n",
    "* Except Date all other column are numerical variable. \n",
    "* From the above results we can see that the variables Personal_Tax,Recession & Life_Expectancy  has some null values, need to treat them.\n",
    "* Also checked that there is no duplicate rows.  "
   ]
  },
  {
   "cell_type": "markdown",
   "id": "34f6b721",
   "metadata": {},
   "source": [
    "### Exploratory data analysis"
   ]
  },
  {
   "cell_type": "code",
   "execution_count": 36,
   "id": "39dc8db7",
   "metadata": {},
   "outputs": [
    {
     "data": {
      "text/html": [
       "<div>\n",
       "<style scoped>\n",
       "    .dataframe tbody tr th:only-of-type {\n",
       "        vertical-align: middle;\n",
       "    }\n",
       "\n",
       "    .dataframe tbody tr th {\n",
       "        vertical-align: top;\n",
       "    }\n",
       "\n",
       "    .dataframe thead th {\n",
       "        text-align: right;\n",
       "    }\n",
       "</style>\n",
       "<table border=\"1\" class=\"dataframe\">\n",
       "  <thead>\n",
       "    <tr style=\"text-align: right;\">\n",
       "      <th></th>\n",
       "      <th>Date</th>\n",
       "      <th>Unemployment_Rate</th>\n",
       "      <th>GDP</th>\n",
       "      <th>Personal_Tax</th>\n",
       "      <th>Mortgage_rate</th>\n",
       "      <th>Recession</th>\n",
       "      <th>Construction_Spending</th>\n",
       "      <th>No_of_PERMIT</th>\n",
       "      <th>Population</th>\n",
       "      <th>Life_Expectancy</th>\n",
       "      <th>CPI</th>\n",
       "      <th>HPI</th>\n",
       "    </tr>\n",
       "  </thead>\n",
       "  <tbody>\n",
       "    <tr>\n",
       "      <th>count</th>\n",
       "      <td>94</td>\n",
       "      <td>94.000000</td>\n",
       "      <td>94.000000</td>\n",
       "      <td>92.000000</td>\n",
       "      <td>94.000000</td>\n",
       "      <td>93.000000</td>\n",
       "      <td>9.400000e+01</td>\n",
       "      <td>94.000000</td>\n",
       "      <td>94.000000</td>\n",
       "      <td>88.000000</td>\n",
       "      <td>94.000000</td>\n",
       "      <td>94.000000</td>\n",
       "    </tr>\n",
       "    <tr>\n",
       "      <th>unique</th>\n",
       "      <td>94</td>\n",
       "      <td>NaN</td>\n",
       "      <td>NaN</td>\n",
       "      <td>NaN</td>\n",
       "      <td>NaN</td>\n",
       "      <td>NaN</td>\n",
       "      <td>NaN</td>\n",
       "      <td>NaN</td>\n",
       "      <td>NaN</td>\n",
       "      <td>NaN</td>\n",
       "      <td>NaN</td>\n",
       "      <td>NaN</td>\n",
       "    </tr>\n",
       "    <tr>\n",
       "      <th>top</th>\n",
       "      <td>2000-01-01 00:00:00</td>\n",
       "      <td>NaN</td>\n",
       "      <td>NaN</td>\n",
       "      <td>NaN</td>\n",
       "      <td>NaN</td>\n",
       "      <td>NaN</td>\n",
       "      <td>NaN</td>\n",
       "      <td>NaN</td>\n",
       "      <td>NaN</td>\n",
       "      <td>NaN</td>\n",
       "      <td>NaN</td>\n",
       "      <td>NaN</td>\n",
       "    </tr>\n",
       "    <tr>\n",
       "      <th>freq</th>\n",
       "      <td>1</td>\n",
       "      <td>NaN</td>\n",
       "      <td>NaN</td>\n",
       "      <td>NaN</td>\n",
       "      <td>NaN</td>\n",
       "      <td>NaN</td>\n",
       "      <td>NaN</td>\n",
       "      <td>NaN</td>\n",
       "      <td>NaN</td>\n",
       "      <td>NaN</td>\n",
       "      <td>NaN</td>\n",
       "      <td>NaN</td>\n",
       "    </tr>\n",
       "    <tr>\n",
       "      <th>first</th>\n",
       "      <td>2000-01-01 00:00:00</td>\n",
       "      <td>NaN</td>\n",
       "      <td>NaN</td>\n",
       "      <td>NaN</td>\n",
       "      <td>NaN</td>\n",
       "      <td>NaN</td>\n",
       "      <td>NaN</td>\n",
       "      <td>NaN</td>\n",
       "      <td>NaN</td>\n",
       "      <td>NaN</td>\n",
       "      <td>NaN</td>\n",
       "      <td>NaN</td>\n",
       "    </tr>\n",
       "    <tr>\n",
       "      <th>last</th>\n",
       "      <td>2023-04-01 00:00:00</td>\n",
       "      <td>NaN</td>\n",
       "      <td>NaN</td>\n",
       "      <td>NaN</td>\n",
       "      <td>NaN</td>\n",
       "      <td>NaN</td>\n",
       "      <td>NaN</td>\n",
       "      <td>NaN</td>\n",
       "      <td>NaN</td>\n",
       "      <td>NaN</td>\n",
       "      <td>NaN</td>\n",
       "      <td>NaN</td>\n",
       "    </tr>\n",
       "    <tr>\n",
       "      <th>mean</th>\n",
       "      <td>NaN</td>\n",
       "      <td>5.808511</td>\n",
       "      <td>16613.797936</td>\n",
       "      <td>1577.076087</td>\n",
       "      <td>5.041323</td>\n",
       "      <td>0.129032</td>\n",
       "      <td>1.126708e+06</td>\n",
       "      <td>1357.039007</td>\n",
       "      <td>311461.826241</td>\n",
       "      <td>77.933592</td>\n",
       "      <td>226.823546</td>\n",
       "      <td>174.613628</td>\n",
       "    </tr>\n",
       "    <tr>\n",
       "      <th>std</th>\n",
       "      <td>NaN</td>\n",
       "      <td>1.961554</td>\n",
       "      <td>4447.182538</td>\n",
       "      <td>1100.030761</td>\n",
       "      <td>1.358677</td>\n",
       "      <td>0.337053</td>\n",
       "      <td>3.037801e+05</td>\n",
       "      <td>458.783662</td>\n",
       "      <td>16504.942142</td>\n",
       "      <td>0.813113</td>\n",
       "      <td>36.823026</td>\n",
       "      <td>48.140798</td>\n",
       "    </tr>\n",
       "    <tr>\n",
       "      <th>min</th>\n",
       "      <td>NaN</td>\n",
       "      <td>3.500000</td>\n",
       "      <td>10002.179000</td>\n",
       "      <td>582.000000</td>\n",
       "      <td>2.760714</td>\n",
       "      <td>0.000000</td>\n",
       "      <td>7.624990e+05</td>\n",
       "      <td>538.666667</td>\n",
       "      <td>281304.333333</td>\n",
       "      <td>76.329268</td>\n",
       "      <td>167.166667</td>\n",
       "      <td>101.339000</td>\n",
       "    </tr>\n",
       "    <tr>\n",
       "      <th>25%</th>\n",
       "      <td>NaN</td>\n",
       "      <td>4.375000</td>\n",
       "      <td>13392.943000</td>\n",
       "      <td>638.000000</td>\n",
       "      <td>3.903970</td>\n",
       "      <td>0.000000</td>\n",
       "      <td>8.592403e+05</td>\n",
       "      <td>1030.333333</td>\n",
       "      <td>297248.416667</td>\n",
       "      <td>77.036585</td>\n",
       "      <td>199.658333</td>\n",
       "      <td>142.538750</td>\n",
       "    </tr>\n",
       "    <tr>\n",
       "      <th>50%</th>\n",
       "      <td>NaN</td>\n",
       "      <td>5.316667</td>\n",
       "      <td>15744.969500</td>\n",
       "      <td>691.000000</td>\n",
       "      <td>4.884533</td>\n",
       "      <td>0.000000</td>\n",
       "      <td>1.072915e+06</td>\n",
       "      <td>1331.666667</td>\n",
       "      <td>312932.166667</td>\n",
       "      <td>78.214634</td>\n",
       "      <td>220.239667</td>\n",
       "      <td>167.007000</td>\n",
       "    </tr>\n",
       "    <tr>\n",
       "      <th>75%</th>\n",
       "      <td>NaN</td>\n",
       "      <td>6.741667</td>\n",
       "      <td>19629.107000</td>\n",
       "      <td>2631.000000</td>\n",
       "      <td>6.187500</td>\n",
       "      <td>0.000000</td>\n",
       "      <td>1.277122e+06</td>\n",
       "      <td>1698.000000</td>\n",
       "      <td>326993.750000</td>\n",
       "      <td>78.641463</td>\n",
       "      <td>251.569833</td>\n",
       "      <td>191.874500</td>\n",
       "    </tr>\n",
       "    <tr>\n",
       "      <th>max</th>\n",
       "      <td>NaN</td>\n",
       "      <td>12.966667</td>\n",
       "      <td>27063.012000</td>\n",
       "      <td>3423.000000</td>\n",
       "      <td>8.316154</td>\n",
       "      <td>1.000000</td>\n",
       "      <td>1.937838e+06</td>\n",
       "      <td>2228.333333</td>\n",
       "      <td>335018.666667</td>\n",
       "      <td>78.841463</td>\n",
       "      <td>318.253667</td>\n",
       "      <td>303.088000</td>\n",
       "    </tr>\n",
       "  </tbody>\n",
       "</table>\n",
       "</div>"
      ],
      "text/plain": [
       "                       Date  Unemployment_Rate           GDP  Personal_Tax  \\\n",
       "count                    94          94.000000     94.000000     92.000000   \n",
       "unique                   94                NaN           NaN           NaN   \n",
       "top     2000-01-01 00:00:00                NaN           NaN           NaN   \n",
       "freq                      1                NaN           NaN           NaN   \n",
       "first   2000-01-01 00:00:00                NaN           NaN           NaN   \n",
       "last    2023-04-01 00:00:00                NaN           NaN           NaN   \n",
       "mean                    NaN           5.808511  16613.797936   1577.076087   \n",
       "std                     NaN           1.961554   4447.182538   1100.030761   \n",
       "min                     NaN           3.500000  10002.179000    582.000000   \n",
       "25%                     NaN           4.375000  13392.943000    638.000000   \n",
       "50%                     NaN           5.316667  15744.969500    691.000000   \n",
       "75%                     NaN           6.741667  19629.107000   2631.000000   \n",
       "max                     NaN          12.966667  27063.012000   3423.000000   \n",
       "\n",
       "        Mortgage_rate   Recession  Construction_Spending  No_of_PERMIT  \\\n",
       "count        94.000000  93.000000           9.400000e+01     94.000000   \n",
       "unique             NaN        NaN                    NaN           NaN   \n",
       "top                NaN        NaN                    NaN           NaN   \n",
       "freq               NaN        NaN                    NaN           NaN   \n",
       "first              NaN        NaN                    NaN           NaN   \n",
       "last               NaN        NaN                    NaN           NaN   \n",
       "mean          5.041323   0.129032           1.126708e+06   1357.039007   \n",
       "std           1.358677   0.337053           3.037801e+05    458.783662   \n",
       "min           2.760714   0.000000           7.624990e+05    538.666667   \n",
       "25%           3.903970   0.000000           8.592403e+05   1030.333333   \n",
       "50%           4.884533   0.000000           1.072915e+06   1331.666667   \n",
       "75%           6.187500   0.000000           1.277122e+06   1698.000000   \n",
       "max           8.316154   1.000000           1.937838e+06   2228.333333   \n",
       "\n",
       "          Population   Life_Expectancy         CPI         HPI  \n",
       "count       94.000000        88.000000   94.000000   94.000000  \n",
       "unique            NaN              NaN         NaN         NaN  \n",
       "top               NaN              NaN         NaN         NaN  \n",
       "freq              NaN              NaN         NaN         NaN  \n",
       "first             NaN              NaN         NaN         NaN  \n",
       "last              NaN              NaN         NaN         NaN  \n",
       "mean    311461.826241        77.933592  226.823546  174.613628  \n",
       "std      16504.942142         0.813113   36.823026   48.140798  \n",
       "min     281304.333333        76.329268  167.166667  101.339000  \n",
       "25%     297248.416667        77.036585  199.658333  142.538750  \n",
       "50%     312932.166667        78.214634  220.239667  167.007000  \n",
       "75%     326993.750000        78.641463  251.569833  191.874500  \n",
       "max     335018.666667        78.841463  318.253667  303.088000  "
      ]
     },
     "execution_count": 36,
     "metadata": {},
     "output_type": "execute_result"
    }
   ],
   "source": [
    "df.describe(include='all')"
   ]
  },
  {
   "cell_type": "markdown",
   "id": "a1787690",
   "metadata": {},
   "source": [
    "The above table shows the statistical summary of the dataset, that are listed below\n",
    "* Unemployment_Rate ranges from3.5% to 12.97 % and the average Unemployment_Rate for last 23 year is 5.8%\n",
    "* The average GDP is around \\\\$16,613.80B, with values ranging from \\\\$10,002.18B to \\\\$27,063.01B.\n",
    "* The mean personal tax is roughly \\\\$1,577.08, varying between \\\\$582.00 and \\\\$3,423.00.\n",
    "* The average mortgage rate is about 5.04%, with a minimum of 2.76% and a maximum of 8.32%.\n",
    "* Among 94 quarters, a recession has not occurred for 81 quarters\n",
    "* Average construction spending is approximately \\\\$1,126,708M with significant variability and values ranging from \\\\$762,499M to \\\\$1,937,838M\n",
    "* No. of PERMIT: The mean number of permits is roughly 1,357.04K ranging from 538.67K to 2,228.33K.\n",
    "* The population ranges from approximately 281,304K to 335,019K. The mean population is approximately 311,461.83K, \n",
    "* The life expectancy ranges from approximately 76.33 to 78.84 years. The mean life expectancy is approximately 77.93 years\n",
    "* The CPI ranges from approximately 167.17 to 318.25. The mean CPI is approximately 226.82, with a standard deviation of about 36.82.\n",
    "* The HPI ranges from approximately 101.34 to 303.09. The mean HPI is approximately 174.61, with a standard deviation of about 48.14. There is a significant variation in house prices."
   ]
  },
  {
   "cell_type": "markdown",
   "id": "23a28986",
   "metadata": {},
   "source": [
    "### Data Visualization"
   ]
  },
  {
   "cell_type": "markdown",
   "id": "2469b75e",
   "metadata": {},
   "source": [
    "### Univariate Analysis"
   ]
  },
  {
   "cell_type": "code",
   "execution_count": 37,
   "id": "07c1ab86",
   "metadata": {},
   "outputs": [],
   "source": [
    "dfnum=df.drop(['Date','Recession'],axis=1)"
   ]
  },
  {
   "cell_type": "code",
   "execution_count": 38,
   "id": "6482a356",
   "metadata": {},
   "outputs": [
    {
     "data": {
      "image/png": "[encoded data removed]",
      "text/plain": [
       "<Figure size 1000x2100 with 20 Axes>"
      ]
     },
     "metadata": {},
     "output_type": "display_data"
    }
   ],
   "source": [
    "plt.figure(figsize=(10,21))\n",
    "for i in range(len(dfnum.columns)):\n",
    "    plt.subplot(10,2,(2*i)+1)\n",
    "    sns.distplot(dfnum[dfnum.columns[i]])\n",
    "    plt.title('Distribution of.{}'.format(dfnum.columns[i]),weight='bold',color='red',y=1.05)\n",
    "    plt.subplot(10,2,(2*i)+2)\n",
    "    sns.boxplot(dfnum[dfnum.columns[i]])\n",
    "    plt.title('Boxplot of.{}'.format(dfnum.columns[i]),weight='bold',color='Blue',y=1.05)\n",
    "    plt.tight_layout()"
   ]
  },
  {
   "cell_type": "markdown",
   "id": "e02ee839",
   "metadata": {},
   "source": [
    "**From the above graph,we can observe the following informations** \n",
    "* The variable Unemployment_Rate is highlyly right skewed\n",
    "* The variable GDP is moderately right skewed\n",
    "* The variable Personal_Tax is slightly right skewed\n",
    "* The variable Mortgage_rate  is slightly right skewed\n",
    "* The variable Construction_Spending is highlyly right skewed\n",
    "* The variable No_of_PERMIT is slightly left skewed\n",
    "* The variable Population  is slightly left skewed\n",
    "* The variable Life_Expectancy is moderately left skewed\n",
    "* The variable CPI is slightly right skewed\n",
    "* The variable HPI  is highlyly right skewed"
   ]
  },
  {
   "cell_type": "code",
   "execution_count": 39,
   "id": "829e1887",
   "metadata": {},
   "outputs": [
    {
     "data": {
      "image/png": "[encoded data removed]",
      "text/plain": [
       "<Figure size 800x400 with 1 Axes>"
      ]
     },
     "metadata": {},
     "output_type": "display_data"
    }
   ],
   "source": [
    "plt.figure(figsize=(8,4))\n",
    "sns.countplot(df['Recession'])\n",
    "plt.title('Frequency of Recession',weight='bold',color='red',y=1.05)\n",
    "plt.tight_layout()"
   ]
  },
  {
   "cell_type": "code",
   "execution_count": 40,
   "id": "f16789f4",
   "metadata": {},
   "outputs": [
    {
     "data": {
      "text/plain": [
       "0.0    81\n",
       "1.0    12\n",
       "Name: Recession, dtype: int64"
      ]
     },
     "execution_count": 40,
     "metadata": {},
     "output_type": "execute_result"
    }
   ],
   "source": [
    "df['Recession'].value_counts()"
   ]
  },
  {
   "cell_type": "markdown",
   "id": "76d247d8",
   "metadata": {},
   "source": [
    "* From the above graph,we can observe that the recession has not occurred for most of the quarters."
   ]
  },
  {
   "cell_type": "markdown",
   "id": "486111b7",
   "metadata": {},
   "source": [
    "**Bivariate Anlysis**"
   ]
  },
  {
   "cell_type": "markdown",
   "id": "e93b155f",
   "metadata": {},
   "source": [
    "sns.pairplot(df)\n",
    "plt.show"
   ]
  },
  {
   "cell_type": "markdown",
   "id": "5c12d11a",
   "metadata": {},
   "source": [
    "**The above pair plot shows that our dependent variable HPI has strong corelation with variables GDP,Construction_spending,Personal_Tax and Population. .The value of co-relation has been explained with the aid of heatmap**"
   ]
  },
  {
   "cell_type": "markdown",
   "id": "55c05676",
   "metadata": {},
   "source": [
    "**Heatmap**"
   ]
  },
  {
   "cell_type": "markdown",
   "id": "8c9a2c53",
   "metadata": {},
   "source": [
    "plt.figure(figsize=(8,8))\n",
    "sns.heatmap(df.corr(),annot=True,mask=np.triu(np.ones_like(df.corr(),dtype=bool)))\n",
    "plt.show()"
   ]
  },
  {
   "cell_type": "markdown",
   "id": "4c5e5223",
   "metadata": {},
   "source": [
    "### Data Preparation "
   ]
  },
  {
   "cell_type": "markdown",
   "id": "755f5003",
   "metadata": {},
   "source": [
    "**Test Train Spit**"
   ]
  },
  {
   "cell_type": "code",
   "execution_count": 41,
   "id": "c5702e43",
   "metadata": {},
   "outputs": [],
   "source": [
    "from sklearn.model_selection import train_test_split"
   ]
  },
  {
   "cell_type": "code",
   "execution_count": 42,
   "id": "6fceeace",
   "metadata": {},
   "outputs": [],
   "source": [
    "indep_train,indep_test, dep_train, dep_test = train_test_split(df.drop('HPI', 1), df['HPI'],\n",
    "                                                   test_size=0.2, random_state=5)"
   ]
  },
  {
   "cell_type": "code",
   "execution_count": 43,
   "id": "5cbebe31",
   "metadata": {
    "scrolled": true
   },
   "outputs": [
    {
     "data": {
      "text/html": [
       "<div>\n",
       "<style scoped>\n",
       "    .dataframe tbody tr th:only-of-type {\n",
       "        vertical-align: middle;\n",
       "    }\n",
       "\n",
       "    .dataframe tbody tr th {\n",
       "        vertical-align: top;\n",
       "    }\n",
       "\n",
       "    .dataframe thead th {\n",
       "        text-align: right;\n",
       "    }\n",
       "</style>\n",
       "<table border=\"1\" class=\"dataframe\">\n",
       "  <thead>\n",
       "    <tr style=\"text-align: right;\">\n",
       "      <th></th>\n",
       "      <th>Date</th>\n",
       "      <th>Unemployment_Rate</th>\n",
       "      <th>GDP</th>\n",
       "      <th>Personal_Tax</th>\n",
       "      <th>Mortgage_rate</th>\n",
       "      <th>Recession</th>\n",
       "      <th>Construction_Spending</th>\n",
       "      <th>No_of_PERMIT</th>\n",
       "      <th>Population</th>\n",
       "      <th>Life_Expectancy</th>\n",
       "      <th>CPI</th>\n",
       "    </tr>\n",
       "  </thead>\n",
       "  <tbody>\n",
       "    <tr>\n",
       "      <th>43</th>\n",
       "      <td>2010-10-01</td>\n",
       "      <td>9.500000</td>\n",
       "      <td>15309.474</td>\n",
       "      <td>606.0</td>\n",
       "      <td>4.436154</td>\n",
       "      <td>0.0</td>\n",
       "      <td>7.983060e+05</td>\n",
       "      <td>583.333333</td>\n",
       "      <td>310817.333333</td>\n",
       "      <td>78.541463</td>\n",
       "      <td>216.555333</td>\n",
       "    </tr>\n",
       "    <tr>\n",
       "      <th>35</th>\n",
       "      <td>2008-10-01</td>\n",
       "      <td>6.866667</td>\n",
       "      <td>14608.209</td>\n",
       "      <td>674.0</td>\n",
       "      <td>5.841429</td>\n",
       "      <td>1.0</td>\n",
       "      <td>1.030044e+06</td>\n",
       "      <td>638.666667</td>\n",
       "      <td>305616.666667</td>\n",
       "      <td>78.039024</td>\n",
       "      <td>217.586333</td>\n",
       "    </tr>\n",
       "    <tr>\n",
       "      <th>13</th>\n",
       "      <td>2003-04-01</td>\n",
       "      <td>6.133333</td>\n",
       "      <td>11312.766</td>\n",
       "      <td>611.0</td>\n",
       "      <td>5.506923</td>\n",
       "      <td>0.0</td>\n",
       "      <td>8.690460e+05</td>\n",
       "      <td>1837.666667</td>\n",
       "      <td>290252.666667</td>\n",
       "      <td>77.036585</td>\n",
       "      <td>184.400000</td>\n",
       "    </tr>\n",
       "    <tr>\n",
       "      <th>55</th>\n",
       "      <td>2013-10-01</td>\n",
       "      <td>6.933333</td>\n",
       "      <td>17192.019</td>\n",
       "      <td>2122.0</td>\n",
       "      <td>4.293077</td>\n",
       "      <td>0.0</td>\n",
       "      <td>9.648490e+05</td>\n",
       "      <td>1026.000000</td>\n",
       "      <td>318072.000000</td>\n",
       "      <td>78.741463</td>\n",
       "      <td>229.108667</td>\n",
       "    </tr>\n",
       "    <tr>\n",
       "      <th>66</th>\n",
       "      <td>2016-07-01</td>\n",
       "      <td>4.900000</td>\n",
       "      <td>18892.639</td>\n",
       "      <td>2631.0</td>\n",
       "      <td>3.446154</td>\n",
       "      <td>0.0</td>\n",
       "      <td>1.222740e+06</td>\n",
       "      <td>1234.000000</td>\n",
       "      <td>324925.333333</td>\n",
       "      <td>78.539024</td>\n",
       "      <td>244.963333</td>\n",
       "    </tr>\n",
       "  </tbody>\n",
       "</table>\n",
       "</div>"
      ],
      "text/plain": [
       "         Date  Unemployment_Rate        GDP  Personal_Tax  Mortgage_rate   \\\n",
       "43 2010-10-01           9.500000  15309.474         606.0        4.436154   \n",
       "35 2008-10-01           6.866667  14608.209         674.0        5.841429   \n",
       "13 2003-04-01           6.133333  11312.766         611.0        5.506923   \n",
       "55 2013-10-01           6.933333  17192.019        2122.0        4.293077   \n",
       "66 2016-07-01           4.900000  18892.639        2631.0        3.446154   \n",
       "\n",
       "    Recession  Construction_Spending  No_of_PERMIT    Population   \\\n",
       "43        0.0           7.983060e+05    583.333333  310817.333333   \n",
       "35        1.0           1.030044e+06    638.666667  305616.666667   \n",
       "13        0.0           8.690460e+05   1837.666667  290252.666667   \n",
       "55        0.0           9.648490e+05   1026.000000  318072.000000   \n",
       "66        0.0           1.222740e+06   1234.000000  324925.333333   \n",
       "\n",
       "    Life_Expectancy         CPI  \n",
       "43        78.541463  216.555333  \n",
       "35        78.039024  217.586333  \n",
       "13        77.036585  184.400000  \n",
       "55        78.741463  229.108667  \n",
       "66        78.539024  244.963333  "
      ]
     },
     "execution_count": 43,
     "metadata": {},
     "output_type": "execute_result"
    }
   ],
   "source": [
    "indep_train.head()"
   ]
  },
  {
   "cell_type": "code",
   "execution_count": 44,
   "id": "a205229f",
   "metadata": {
    "scrolled": false
   },
   "outputs": [
    {
     "data": {
      "text/html": [
       "<div>\n",
       "<style scoped>\n",
       "    .dataframe tbody tr th:only-of-type {\n",
       "        vertical-align: middle;\n",
       "    }\n",
       "\n",
       "    .dataframe tbody tr th {\n",
       "        vertical-align: top;\n",
       "    }\n",
       "\n",
       "    .dataframe thead th {\n",
       "        text-align: right;\n",
       "    }\n",
       "</style>\n",
       "<table border=\"1\" class=\"dataframe\">\n",
       "  <thead>\n",
       "    <tr style=\"text-align: right;\">\n",
       "      <th></th>\n",
       "      <th>Date</th>\n",
       "      <th>Unemployment_Rate</th>\n",
       "      <th>GDP</th>\n",
       "      <th>Personal_Tax</th>\n",
       "      <th>Mortgage_rate</th>\n",
       "      <th>Recession</th>\n",
       "      <th>Construction_Spending</th>\n",
       "      <th>No_of_PERMIT</th>\n",
       "      <th>Population</th>\n",
       "      <th>Life_Expectancy</th>\n",
       "      <th>CPI</th>\n",
       "    </tr>\n",
       "  </thead>\n",
       "  <tbody>\n",
       "    <tr>\n",
       "      <th>40</th>\n",
       "      <td>2010-01-01</td>\n",
       "      <td>9.833333</td>\n",
       "      <td>14764.610</td>\n",
       "      <td>606.0</td>\n",
       "      <td>4.995833</td>\n",
       "      <td>0.0</td>\n",
       "      <td>8.196160e+05</td>\n",
       "      <td>657.666667</td>\n",
       "      <td>308901.666667</td>\n",
       "      <td>78.541463</td>\n",
       "      <td>216.131333</td>\n",
       "    </tr>\n",
       "    <tr>\n",
       "      <th>37</th>\n",
       "      <td>2009-04-01</td>\n",
       "      <td>9.300000</td>\n",
       "      <td>14381.236</td>\n",
       "      <td>657.0</td>\n",
       "      <td>5.012308</td>\n",
       "      <td>1.0</td>\n",
       "      <td>9.216773e+05</td>\n",
       "      <td>559.333333</td>\n",
       "      <td>306866.000000</td>\n",
       "      <td>78.390244</td>\n",
       "      <td>217.083000</td>\n",
       "    </tr>\n",
       "    <tr>\n",
       "      <th>52</th>\n",
       "      <td>2013-01-01</td>\n",
       "      <td>7.733333</td>\n",
       "      <td>16648.189</td>\n",
       "      <td>2122.0</td>\n",
       "      <td>3.496923</td>\n",
       "      <td>0.0</td>\n",
       "      <td>8.669383e+05</td>\n",
       "      <td>952.000000</td>\n",
       "      <td>316195.333333</td>\n",
       "      <td>78.741463</td>\n",
       "      <td>225.485000</td>\n",
       "    </tr>\n",
       "    <tr>\n",
       "      <th>74</th>\n",
       "      <td>2018-07-01</td>\n",
       "      <td>3.766667</td>\n",
       "      <td>20798.730</td>\n",
       "      <td>2925.0</td>\n",
       "      <td>4.566923</td>\n",
       "      <td>0.0</td>\n",
       "      <td>1.334397e+06</td>\n",
       "      <td>1315.333333</td>\n",
       "      <td>329039.666667</td>\n",
       "      <td>78.639024</td>\n",
       "      <td>259.188667</td>\n",
       "    </tr>\n",
       "    <tr>\n",
       "      <th>54</th>\n",
       "      <td>2013-07-01</td>\n",
       "      <td>7.233333</td>\n",
       "      <td>16953.838</td>\n",
       "      <td>2122.0</td>\n",
       "      <td>4.440000</td>\n",
       "      <td>0.0</td>\n",
       "      <td>9.283127e+05</td>\n",
       "      <td>988.333333</td>\n",
       "      <td>317396.000000</td>\n",
       "      <td>78.741463</td>\n",
       "      <td>227.948000</td>\n",
       "    </tr>\n",
       "  </tbody>\n",
       "</table>\n",
       "</div>"
      ],
      "text/plain": [
       "         Date  Unemployment_Rate        GDP  Personal_Tax  Mortgage_rate   \\\n",
       "40 2010-01-01           9.833333  14764.610         606.0        4.995833   \n",
       "37 2009-04-01           9.300000  14381.236         657.0        5.012308   \n",
       "52 2013-01-01           7.733333  16648.189        2122.0        3.496923   \n",
       "74 2018-07-01           3.766667  20798.730        2925.0        4.566923   \n",
       "54 2013-07-01           7.233333  16953.838        2122.0        4.440000   \n",
       "\n",
       "    Recession  Construction_Spending  No_of_PERMIT    Population   \\\n",
       "40        0.0           8.196160e+05    657.666667  308901.666667   \n",
       "37        1.0           9.216773e+05    559.333333  306866.000000   \n",
       "52        0.0           8.669383e+05    952.000000  316195.333333   \n",
       "74        0.0           1.334397e+06   1315.333333  329039.666667   \n",
       "54        0.0           9.283127e+05    988.333333  317396.000000   \n",
       "\n",
       "    Life_Expectancy         CPI  \n",
       "40        78.541463  216.131333  \n",
       "37        78.390244  217.083000  \n",
       "52        78.741463  225.485000  \n",
       "74        78.639024  259.188667  \n",
       "54        78.741463  227.948000  "
      ]
     },
     "execution_count": 44,
     "metadata": {},
     "output_type": "execute_result"
    }
   ],
   "source": [
    "indep_test.head()"
   ]
  },
  {
   "cell_type": "code",
   "execution_count": 45,
   "id": "315c3741",
   "metadata": {
    "scrolled": true
   },
   "outputs": [
    {
     "data": {
      "text/plain": [
       "43    142.254667\n",
       "35    156.029333\n",
       "13    131.755667\n",
       "55    160.103667\n",
       "66    181.836000\n",
       "Name: HPI, dtype: float64"
      ]
     },
     "execution_count": 45,
     "metadata": {},
     "output_type": "execute_result"
    }
   ],
   "source": [
    "dep_train.head()"
   ]
  },
  {
   "cell_type": "code",
   "execution_count": 46,
   "id": "19c2cfb5",
   "metadata": {},
   "outputs": [
    {
     "data": {
      "text/plain": [
       "40    146.295333\n",
       "37    147.911000\n",
       "52    148.191667\n",
       "74    203.658000\n",
       "54    156.932000\n",
       "Name: HPI, dtype: float64"
      ]
     },
     "execution_count": 46,
     "metadata": {},
     "output_type": "execute_result"
    }
   ],
   "source": [
    "dep_test.head()"
   ]
  },
  {
   "cell_type": "markdown",
   "id": "7e323415",
   "metadata": {},
   "source": [
    "**Impute null values**"
   ]
  },
  {
   "cell_type": "markdown",
   "id": "8a379090",
   "metadata": {},
   "source": [
    "I used a KNN imputer to address missing values resulting from data unavailability."
   ]
  },
  {
   "cell_type": "code",
   "execution_count": 47,
   "id": "3acfbd66",
   "metadata": {},
   "outputs": [],
   "source": [
    "from sklearn.impute import KNNImputer"
   ]
  },
  {
   "cell_type": "code",
   "execution_count": 48,
   "id": "ed0a0b79",
   "metadata": {},
   "outputs": [],
   "source": [
    "\n",
    "knn = KNNImputer(n_neighbors=5)"
   ]
  },
  {
   "cell_type": "code",
   "execution_count": 49,
   "id": "1934eade",
   "metadata": {},
   "outputs": [
    {
     "data": {
      "text/html": [
       "<style>#sk-container-id-2 {color: black;}#sk-container-id-2 pre{padding: 0;}#sk-container-id-2 div.sk-toggleable {background-color: white;}#sk-container-id-2 label.sk-toggleable__label {cursor: pointer;display: block;width: 100%;margin-bottom: 0;padding: 0.3em;box-sizing: border-box;text-align: center;}#sk-container-id-2 label.sk-toggleable__label-arrow:before {content: \"▸\";float: left;margin-right: 0.25em;color: #696969;}#sk-container-id-2 label.sk-toggleable__label-arrow:hover:before {color: black;}#sk-container-id-2 div.sk-estimator:hover label.sk-toggleable__label-arrow:before {color: black;}#sk-container-id-2 div.sk-toggleable__content {max-height: 0;max-width: 0;overflow: hidden;text-align: left;background-color: #f0f8ff;}#sk-container-id-2 div.sk-toggleable__content pre {margin: 0.2em;color: black;border-radius: 0.25em;background-color: #f0f8ff;}#sk-container-id-2 input.sk-toggleable__control:checked~div.sk-toggleable__content {max-height: 200px;max-width: 100%;overflow: auto;}#sk-container-id-2 input.sk-toggleable__control:checked~label.sk-toggleable__label-arrow:before {content: \"▾\";}#sk-container-id-2 div.sk-estimator input.sk-toggleable__control:checked~label.sk-toggleable__label {background-color: #d4ebff;}#sk-container-id-2 div.sk-label input.sk-toggleable__control:checked~label.sk-toggleable__label {background-color: #d4ebff;}#sk-container-id-2 input.sk-hidden--visually {border: 0;clip: rect(1px 1px 1px 1px);clip: rect(1px, 1px, 1px, 1px);height: 1px;margin: -1px;overflow: hidden;padding: 0;position: absolute;width: 1px;}#sk-container-id-2 div.sk-estimator {font-family: monospace;background-color: #f0f8ff;border: 1px dotted black;border-radius: 0.25em;box-sizing: border-box;margin-bottom: 0.5em;}#sk-container-id-2 div.sk-estimator:hover {background-color: #d4ebff;}#sk-container-id-2 div.sk-parallel-item::after {content: \"\";width: 100%;border-bottom: 1px solid gray;flex-grow: 1;}#sk-container-id-2 div.sk-label:hover label.sk-toggleable__label {background-color: #d4ebff;}#sk-container-id-2 div.sk-serial::before {content: \"\";position: absolute;border-left: 1px solid gray;box-sizing: border-box;top: 0;bottom: 0;left: 50%;z-index: 0;}#sk-container-id-2 div.sk-serial {display: flex;flex-direction: column;align-items: center;background-color: white;padding-right: 0.2em;padding-left: 0.2em;position: relative;}#sk-container-id-2 div.sk-item {position: relative;z-index: 1;}#sk-container-id-2 div.sk-parallel {display: flex;align-items: stretch;justify-content: center;background-color: white;position: relative;}#sk-container-id-2 div.sk-item::before, #sk-container-id-2 div.sk-parallel-item::before {content: \"\";position: absolute;border-left: 1px solid gray;box-sizing: border-box;top: 0;bottom: 0;left: 50%;z-index: -1;}#sk-container-id-2 div.sk-parallel-item {display: flex;flex-direction: column;z-index: 1;position: relative;background-color: white;}#sk-container-id-2 div.sk-parallel-item:first-child::after {align-self: flex-end;width: 50%;}#sk-container-id-2 div.sk-parallel-item:last-child::after {align-self: flex-start;width: 50%;}#sk-container-id-2 div.sk-parallel-item:only-child::after {width: 0;}#sk-container-id-2 div.sk-dashed-wrapped {border: 1px dashed gray;margin: 0 0.4em 0.5em 0.4em;box-sizing: border-box;padding-bottom: 0.4em;background-color: white;}#sk-container-id-2 div.sk-label label {font-family: monospace;font-weight: bold;display: inline-block;line-height: 1.2em;}#sk-container-id-2 div.sk-label-container {text-align: center;}#sk-container-id-2 div.sk-container {/* jupyter's `normalize.less` sets `[hidden] { display: none; }` but bootstrap.min.css set `[hidden] { display: none !important; }` so we also need the `!important` here to be able to override the default hidden behavior on the sphinx rendered scikit-learn.org. See: https://github.com/scikit-learn/scikit-learn/issues/21755 */display: inline-block !important;position: relative;}#sk-container-id-2 div.sk-text-repr-fallback {display: none;}</style><div id=\"sk-container-id-2\" class=\"sk-top-container\"><div class=\"sk-text-repr-fallback\"><pre>KNNImputer()</pre><b>In a Jupyter environment, please rerun this cell to show the HTML representation or trust the notebook. <br />On GitHub, the HTML representation is unable to render, please try loading this page with nbviewer.org.</b></div><div class=\"sk-container\" hidden><div class=\"sk-item\"><div class=\"sk-estimator sk-toggleable\"><input class=\"sk-toggleable__control sk-hidden--visually\" id=\"sk-estimator-id-2\" type=\"checkbox\" checked><label for=\"sk-estimator-id-2\" class=\"sk-toggleable__label sk-toggleable__label-arrow\">KNNImputer</label><div class=\"sk-toggleable__content\"><pre>KNNImputer()</pre></div></div></div></div></div>"
      ],
      "text/plain": [
       "KNNImputer()"
      ]
     },
     "execution_count": 49,
     "metadata": {},
     "output_type": "execute_result"
    }
   ],
   "source": [
    "knn.fit(indep_train.drop('Date',1))"
   ]
  },
  {
   "cell_type": "code",
   "execution_count": 50,
   "id": "2173a643",
   "metadata": {},
   "outputs": [],
   "source": [
    "t=indep_train.drop('Date',1).columns"
   ]
  },
  {
   "cell_type": "code",
   "execution_count": 51,
   "id": "957bcdf6",
   "metadata": {},
   "outputs": [],
   "source": [
    "indep_tr = pd.DataFrame(knn.transform(indep_train.drop('Date',1)),columns=t)"
   ]
  },
  {
   "cell_type": "code",
   "execution_count": 52,
   "id": "502b679b",
   "metadata": {},
   "outputs": [],
   "source": [
    "df= pd.merge(indep_tr,indep_train[['Date','GDP']],on='GDP')"
   ]
  },
  {
   "cell_type": "code",
   "execution_count": 54,
   "id": "9afb4cb8",
   "metadata": {},
   "outputs": [
    {
     "data": {
      "text/html": [
       "<div>\n",
       "<style scoped>\n",
       "    .dataframe tbody tr th:only-of-type {\n",
       "        vertical-align: middle;\n",
       "    }\n",
       "\n",
       "    .dataframe tbody tr th {\n",
       "        vertical-align: top;\n",
       "    }\n",
       "\n",
       "    .dataframe thead th {\n",
       "        text-align: right;\n",
       "    }\n",
       "</style>\n",
       "<table border=\"1\" class=\"dataframe\">\n",
       "  <thead>\n",
       "    <tr style=\"text-align: right;\">\n",
       "      <th></th>\n",
       "      <th>Unemployment_Rate</th>\n",
       "      <th>GDP</th>\n",
       "      <th>Personal_Tax</th>\n",
       "      <th>Mortgage_rate</th>\n",
       "      <th>Recession</th>\n",
       "      <th>Construction_Spending</th>\n",
       "      <th>No_of_PERMIT</th>\n",
       "      <th>Population</th>\n",
       "      <th>Life_Expectancy</th>\n",
       "      <th>CPI</th>\n",
       "      <th>Date</th>\n",
       "    </tr>\n",
       "  </thead>\n",
       "  <tbody>\n",
       "    <tr>\n",
       "      <th>0</th>\n",
       "      <td>9.500000</td>\n",
       "      <td>15309.474</td>\n",
       "      <td>606.0</td>\n",
       "      <td>4.436154</td>\n",
       "      <td>0.0</td>\n",
       "      <td>7.983060e+05</td>\n",
       "      <td>583.333333</td>\n",
       "      <td>310817.333333</td>\n",
       "      <td>78.541463</td>\n",
       "      <td>216.555333</td>\n",
       "      <td>2010-10-01</td>\n",
       "    </tr>\n",
       "    <tr>\n",
       "      <th>1</th>\n",
       "      <td>6.866667</td>\n",
       "      <td>14608.209</td>\n",
       "      <td>674.0</td>\n",
       "      <td>5.841429</td>\n",
       "      <td>1.0</td>\n",
       "      <td>1.030044e+06</td>\n",
       "      <td>638.666667</td>\n",
       "      <td>305616.666667</td>\n",
       "      <td>78.039024</td>\n",
       "      <td>217.586333</td>\n",
       "      <td>2008-10-01</td>\n",
       "    </tr>\n",
       "    <tr>\n",
       "      <th>2</th>\n",
       "      <td>6.133333</td>\n",
       "      <td>11312.766</td>\n",
       "      <td>611.0</td>\n",
       "      <td>5.506923</td>\n",
       "      <td>0.0</td>\n",
       "      <td>8.690460e+05</td>\n",
       "      <td>1837.666667</td>\n",
       "      <td>290252.666667</td>\n",
       "      <td>77.036585</td>\n",
       "      <td>184.400000</td>\n",
       "      <td>2003-04-01</td>\n",
       "    </tr>\n",
       "    <tr>\n",
       "      <th>3</th>\n",
       "      <td>6.933333</td>\n",
       "      <td>17192.019</td>\n",
       "      <td>2122.0</td>\n",
       "      <td>4.293077</td>\n",
       "      <td>0.0</td>\n",
       "      <td>9.648490e+05</td>\n",
       "      <td>1026.000000</td>\n",
       "      <td>318072.000000</td>\n",
       "      <td>78.741463</td>\n",
       "      <td>229.108667</td>\n",
       "      <td>2013-10-01</td>\n",
       "    </tr>\n",
       "    <tr>\n",
       "      <th>4</th>\n",
       "      <td>4.900000</td>\n",
       "      <td>18892.639</td>\n",
       "      <td>2631.0</td>\n",
       "      <td>3.446154</td>\n",
       "      <td>0.0</td>\n",
       "      <td>1.222740e+06</td>\n",
       "      <td>1234.000000</td>\n",
       "      <td>324925.333333</td>\n",
       "      <td>78.539024</td>\n",
       "      <td>244.963333</td>\n",
       "      <td>2016-07-01</td>\n",
       "    </tr>\n",
       "  </tbody>\n",
       "</table>\n",
       "</div>"
      ],
      "text/plain": [
       "   Unemployment_Rate        GDP  Personal_Tax  Mortgage_rate   Recession  \\\n",
       "0           9.500000  15309.474         606.0        4.436154        0.0   \n",
       "1           6.866667  14608.209         674.0        5.841429        1.0   \n",
       "2           6.133333  11312.766         611.0        5.506923        0.0   \n",
       "3           6.933333  17192.019        2122.0        4.293077        0.0   \n",
       "4           4.900000  18892.639        2631.0        3.446154        0.0   \n",
       "\n",
       "   Construction_Spending  No_of_PERMIT    Population   Life_Expectancy  \\\n",
       "0           7.983060e+05    583.333333  310817.333333        78.541463   \n",
       "1           1.030044e+06    638.666667  305616.666667        78.039024   \n",
       "2           8.690460e+05   1837.666667  290252.666667        77.036585   \n",
       "3           9.648490e+05   1026.000000  318072.000000        78.741463   \n",
       "4           1.222740e+06   1234.000000  324925.333333        78.539024   \n",
       "\n",
       "          CPI       Date  \n",
       "0  216.555333 2010-10-01  \n",
       "1  217.586333 2008-10-01  \n",
       "2  184.400000 2003-04-01  \n",
       "3  229.108667 2013-10-01  \n",
       "4  244.963333 2016-07-01  "
      ]
     },
     "execution_count": 54,
     "metadata": {},
     "output_type": "execute_result"
    }
   ],
   "source": [
    "df.head()"
   ]
  },
  {
   "cell_type": "code",
   "execution_count": 56,
   "id": "2cdc3fce",
   "metadata": {},
   "outputs": [],
   "source": [
    "indep_train=df"
   ]
  },
  {
   "cell_type": "code",
   "execution_count": 57,
   "id": "43045bc8",
   "metadata": {},
   "outputs": [
    {
     "data": {
      "text/html": [
       "<div>\n",
       "<style scoped>\n",
       "    .dataframe tbody tr th:only-of-type {\n",
       "        vertical-align: middle;\n",
       "    }\n",
       "\n",
       "    .dataframe tbody tr th {\n",
       "        vertical-align: top;\n",
       "    }\n",
       "\n",
       "    .dataframe thead th {\n",
       "        text-align: right;\n",
       "    }\n",
       "</style>\n",
       "<table border=\"1\" class=\"dataframe\">\n",
       "  <thead>\n",
       "    <tr style=\"text-align: right;\">\n",
       "      <th></th>\n",
       "      <th>Unemployment_Rate</th>\n",
       "      <th>GDP</th>\n",
       "      <th>Personal_Tax</th>\n",
       "      <th>Mortgage_rate</th>\n",
       "      <th>Recession</th>\n",
       "      <th>Construction_Spending</th>\n",
       "      <th>No_of_PERMIT</th>\n",
       "      <th>Population</th>\n",
       "      <th>Life_Expectancy</th>\n",
       "      <th>CPI</th>\n",
       "      <th>Date</th>\n",
       "    </tr>\n",
       "  </thead>\n",
       "  <tbody>\n",
       "    <tr>\n",
       "      <th>0</th>\n",
       "      <td>9.500000</td>\n",
       "      <td>15309.474</td>\n",
       "      <td>606.0</td>\n",
       "      <td>4.436154</td>\n",
       "      <td>0.0</td>\n",
       "      <td>7.983060e+05</td>\n",
       "      <td>583.333333</td>\n",
       "      <td>310817.333333</td>\n",
       "      <td>78.541463</td>\n",
       "      <td>216.555333</td>\n",
       "      <td>2010-10-01</td>\n",
       "    </tr>\n",
       "    <tr>\n",
       "      <th>1</th>\n",
       "      <td>6.866667</td>\n",
       "      <td>14608.209</td>\n",
       "      <td>674.0</td>\n",
       "      <td>5.841429</td>\n",
       "      <td>1.0</td>\n",
       "      <td>1.030044e+06</td>\n",
       "      <td>638.666667</td>\n",
       "      <td>305616.666667</td>\n",
       "      <td>78.039024</td>\n",
       "      <td>217.586333</td>\n",
       "      <td>2008-10-01</td>\n",
       "    </tr>\n",
       "    <tr>\n",
       "      <th>2</th>\n",
       "      <td>6.133333</td>\n",
       "      <td>11312.766</td>\n",
       "      <td>611.0</td>\n",
       "      <td>5.506923</td>\n",
       "      <td>0.0</td>\n",
       "      <td>8.690460e+05</td>\n",
       "      <td>1837.666667</td>\n",
       "      <td>290252.666667</td>\n",
       "      <td>77.036585</td>\n",
       "      <td>184.400000</td>\n",
       "      <td>2003-04-01</td>\n",
       "    </tr>\n",
       "    <tr>\n",
       "      <th>3</th>\n",
       "      <td>6.933333</td>\n",
       "      <td>17192.019</td>\n",
       "      <td>2122.0</td>\n",
       "      <td>4.293077</td>\n",
       "      <td>0.0</td>\n",
       "      <td>9.648490e+05</td>\n",
       "      <td>1026.000000</td>\n",
       "      <td>318072.000000</td>\n",
       "      <td>78.741463</td>\n",
       "      <td>229.108667</td>\n",
       "      <td>2013-10-01</td>\n",
       "    </tr>\n",
       "    <tr>\n",
       "      <th>4</th>\n",
       "      <td>4.900000</td>\n",
       "      <td>18892.639</td>\n",
       "      <td>2631.0</td>\n",
       "      <td>3.446154</td>\n",
       "      <td>0.0</td>\n",
       "      <td>1.222740e+06</td>\n",
       "      <td>1234.000000</td>\n",
       "      <td>324925.333333</td>\n",
       "      <td>78.539024</td>\n",
       "      <td>244.963333</td>\n",
       "      <td>2016-07-01</td>\n",
       "    </tr>\n",
       "  </tbody>\n",
       "</table>\n",
       "</div>"
      ],
      "text/plain": [
       "   Unemployment_Rate        GDP  Personal_Tax  Mortgage_rate   Recession  \\\n",
       "0           9.500000  15309.474         606.0        4.436154        0.0   \n",
       "1           6.866667  14608.209         674.0        5.841429        1.0   \n",
       "2           6.133333  11312.766         611.0        5.506923        0.0   \n",
       "3           6.933333  17192.019        2122.0        4.293077        0.0   \n",
       "4           4.900000  18892.639        2631.0        3.446154        0.0   \n",
       "\n",
       "   Construction_Spending  No_of_PERMIT    Population   Life_Expectancy  \\\n",
       "0           7.983060e+05    583.333333  310817.333333        78.541463   \n",
       "1           1.030044e+06    638.666667  305616.666667        78.039024   \n",
       "2           8.690460e+05   1837.666667  290252.666667        77.036585   \n",
       "3           9.648490e+05   1026.000000  318072.000000        78.741463   \n",
       "4           1.222740e+06   1234.000000  324925.333333        78.539024   \n",
       "\n",
       "          CPI       Date  \n",
       "0  216.555333 2010-10-01  \n",
       "1  217.586333 2008-10-01  \n",
       "2  184.400000 2003-04-01  \n",
       "3  229.108667 2013-10-01  \n",
       "4  244.963333 2016-07-01  "
      ]
     },
     "execution_count": 57,
     "metadata": {},
     "output_type": "execute_result"
    }
   ],
   "source": [
    "indep_train.head()"
   ]
  },
  {
   "cell_type": "code",
   "execution_count": 58,
   "id": "5e5572bc",
   "metadata": {},
   "outputs": [
    {
     "data": {
      "text/plain": [
       "Unemployment_Rate        0\n",
       "GDP                      0\n",
       "Personal_Tax             0\n",
       "Mortgage_rate            0\n",
       "Recession                0\n",
       "Construction_Spending    0\n",
       "No_of_PERMIT             0\n",
       "Population               0\n",
       "Life_Expectancy          0\n",
       "CPI                      0\n",
       "Date                     0\n",
       "dtype: int64"
      ]
     },
     "execution_count": 58,
     "metadata": {},
     "output_type": "execute_result"
    }
   ],
   "source": [
    "indep_train.isnull().sum()"
   ]
  },
  {
   "cell_type": "code",
   "execution_count": 59,
   "id": "043e9b11",
   "metadata": {},
   "outputs": [],
   "source": [
    "t1=indep_test.drop('Date',1).columns"
   ]
  },
  {
   "cell_type": "code",
   "execution_count": 60,
   "id": "3d440a46",
   "metadata": {},
   "outputs": [],
   "source": [
    "indep_ts = pd.DataFrame(knn.transform(indep_test.drop('Date',1)),columns=t1)"
   ]
  },
  {
   "cell_type": "code",
   "execution_count": 61,
   "id": "7ae8c8cd",
   "metadata": {},
   "outputs": [],
   "source": [
    "df1= pd.merge(indep_ts,indep_test[['Date','GDP']],on='GDP')"
   ]
  },
  {
   "cell_type": "code",
   "execution_count": 63,
   "id": "ad3855cb",
   "metadata": {},
   "outputs": [],
   "source": [
    "indep_test=df1"
   ]
  },
  {
   "cell_type": "code",
   "execution_count": 64,
   "id": "d37d2cd4",
   "metadata": {},
   "outputs": [
    {
     "data": {
      "text/html": [
       "<div>\n",
       "<style scoped>\n",
       "    .dataframe tbody tr th:only-of-type {\n",
       "        vertical-align: middle;\n",
       "    }\n",
       "\n",
       "    .dataframe tbody tr th {\n",
       "        vertical-align: top;\n",
       "    }\n",
       "\n",
       "    .dataframe thead th {\n",
       "        text-align: right;\n",
       "    }\n",
       "</style>\n",
       "<table border=\"1\" class=\"dataframe\">\n",
       "  <thead>\n",
       "    <tr style=\"text-align: right;\">\n",
       "      <th></th>\n",
       "      <th>Unemployment_Rate</th>\n",
       "      <th>GDP</th>\n",
       "      <th>Personal_Tax</th>\n",
       "      <th>Mortgage_rate</th>\n",
       "      <th>Recession</th>\n",
       "      <th>Construction_Spending</th>\n",
       "      <th>No_of_PERMIT</th>\n",
       "      <th>Population</th>\n",
       "      <th>Life_Expectancy</th>\n",
       "      <th>CPI</th>\n",
       "      <th>Date</th>\n",
       "    </tr>\n",
       "  </thead>\n",
       "  <tbody>\n",
       "    <tr>\n",
       "      <th>0</th>\n",
       "      <td>9.833333</td>\n",
       "      <td>14764.610</td>\n",
       "      <td>606.0</td>\n",
       "      <td>4.995833</td>\n",
       "      <td>0.0</td>\n",
       "      <td>8.196160e+05</td>\n",
       "      <td>657.666667</td>\n",
       "      <td>308901.666667</td>\n",
       "      <td>78.541463</td>\n",
       "      <td>216.131333</td>\n",
       "      <td>2010-01-01</td>\n",
       "    </tr>\n",
       "    <tr>\n",
       "      <th>1</th>\n",
       "      <td>9.300000</td>\n",
       "      <td>14381.236</td>\n",
       "      <td>657.0</td>\n",
       "      <td>5.012308</td>\n",
       "      <td>1.0</td>\n",
       "      <td>9.216773e+05</td>\n",
       "      <td>559.333333</td>\n",
       "      <td>306866.000000</td>\n",
       "      <td>78.390244</td>\n",
       "      <td>217.083000</td>\n",
       "      <td>2009-04-01</td>\n",
       "    </tr>\n",
       "    <tr>\n",
       "      <th>2</th>\n",
       "      <td>7.733333</td>\n",
       "      <td>16648.189</td>\n",
       "      <td>2122.0</td>\n",
       "      <td>3.496923</td>\n",
       "      <td>0.0</td>\n",
       "      <td>8.669383e+05</td>\n",
       "      <td>952.000000</td>\n",
       "      <td>316195.333333</td>\n",
       "      <td>78.741463</td>\n",
       "      <td>225.485000</td>\n",
       "      <td>2013-01-01</td>\n",
       "    </tr>\n",
       "    <tr>\n",
       "      <th>3</th>\n",
       "      <td>3.766667</td>\n",
       "      <td>20798.730</td>\n",
       "      <td>2925.0</td>\n",
       "      <td>4.566923</td>\n",
       "      <td>0.0</td>\n",
       "      <td>1.334397e+06</td>\n",
       "      <td>1315.333333</td>\n",
       "      <td>329039.666667</td>\n",
       "      <td>78.639024</td>\n",
       "      <td>259.188667</td>\n",
       "      <td>2018-07-01</td>\n",
       "    </tr>\n",
       "    <tr>\n",
       "      <th>4</th>\n",
       "      <td>7.233333</td>\n",
       "      <td>16953.838</td>\n",
       "      <td>2122.0</td>\n",
       "      <td>4.440000</td>\n",
       "      <td>0.0</td>\n",
       "      <td>9.283127e+05</td>\n",
       "      <td>988.333333</td>\n",
       "      <td>317396.000000</td>\n",
       "      <td>78.741463</td>\n",
       "      <td>227.948000</td>\n",
       "      <td>2013-07-01</td>\n",
       "    </tr>\n",
       "  </tbody>\n",
       "</table>\n",
       "</div>"
      ],
      "text/plain": [
       "   Unemployment_Rate        GDP  Personal_Tax  Mortgage_rate   Recession  \\\n",
       "0           9.833333  14764.610         606.0        4.995833        0.0   \n",
       "1           9.300000  14381.236         657.0        5.012308        1.0   \n",
       "2           7.733333  16648.189        2122.0        3.496923        0.0   \n",
       "3           3.766667  20798.730        2925.0        4.566923        0.0   \n",
       "4           7.233333  16953.838        2122.0        4.440000        0.0   \n",
       "\n",
       "   Construction_Spending  No_of_PERMIT    Population   Life_Expectancy  \\\n",
       "0           8.196160e+05    657.666667  308901.666667        78.541463   \n",
       "1           9.216773e+05    559.333333  306866.000000        78.390244   \n",
       "2           8.669383e+05    952.000000  316195.333333        78.741463   \n",
       "3           1.334397e+06   1315.333333  329039.666667        78.639024   \n",
       "4           9.283127e+05    988.333333  317396.000000        78.741463   \n",
       "\n",
       "          CPI       Date  \n",
       "0  216.131333 2010-01-01  \n",
       "1  217.083000 2009-04-01  \n",
       "2  225.485000 2013-01-01  \n",
       "3  259.188667 2018-07-01  \n",
       "4  227.948000 2013-07-01  "
      ]
     },
     "execution_count": 64,
     "metadata": {},
     "output_type": "execute_result"
    }
   ],
   "source": [
    "indep_test.head()"
   ]
  },
  {
   "cell_type": "code",
   "execution_count": 65,
   "id": "05ab57b0",
   "metadata": {},
   "outputs": [
    {
     "data": {
      "text/plain": [
       "(19, 11)"
      ]
     },
     "execution_count": 65,
     "metadata": {},
     "output_type": "execute_result"
    }
   ],
   "source": [
    "indep_test.shape"
   ]
  },
  {
   "cell_type": "code",
   "execution_count": 66,
   "id": "18ed3be9",
   "metadata": {},
   "outputs": [
    {
     "data": {
      "text/plain": [
       "Unemployment_Rate        0\n",
       "GDP                      0\n",
       "Personal_Tax             0\n",
       "Mortgage_rate            0\n",
       "Recession                0\n",
       "Construction_Spending    0\n",
       "No_of_PERMIT             0\n",
       "Population               0\n",
       "Life_Expectancy          0\n",
       "CPI                      0\n",
       "Date                     0\n",
       "dtype: int64"
      ]
     },
     "execution_count": 66,
     "metadata": {},
     "output_type": "execute_result"
    }
   ],
   "source": [
    "indep_test.isnull().sum()"
   ]
  },
  {
   "cell_type": "markdown",
   "id": "cbc9647d",
   "metadata": {},
   "source": [
    "**We imputed missing values using the KNN imputer separately for both the test and train data to prevent data leakage**"
   ]
  },
  {
   "cell_type": "markdown",
   "id": "ef4a9489",
   "metadata": {},
   "source": [
    "**Scaling**  \n",
    "\n",
    "Scaling nescesscary for distance based algorithm like KNN,Clusteringmuch. Also we need to scale the data for algorithm like Linear regression,Logistc Regression & ANN which uses gradient descent. Since scaling helps gradient descent to converge and reach a global minima quickly.  \n",
    "\n",
    "\n",
    "As I am planning to use the linear regression algorithm, I have performed scaling using the standard scaler for both the test and train data. I aim to preserve the original scale of the target variable since it represents the actual values we are trying to predict.\n"
   ]
  },
  {
   "cell_type": "code",
   "execution_count": 68,
   "id": "748ee405",
   "metadata": {},
   "outputs": [],
   "source": [
    "from sklearn.preprocessing import StandardScaler\n",
    "sc = StandardScaler()"
   ]
  },
  {
   "cell_type": "code",
   "execution_count": 69,
   "id": "41c6cfa5",
   "metadata": {},
   "outputs": [],
   "source": [
    "indep_tr = indep_train.drop('Date',1)\n",
    "indep_ts = indep_test.drop('Date',1)"
   ]
  },
  {
   "cell_type": "code",
   "execution_count": 73,
   "id": "9f1c2b08",
   "metadata": {},
   "outputs": [],
   "source": [
    "sc_indep_tr = sc.fit_transform(indep_tr)\n",
    "sc_indep_tr=pd.DataFrame(sc_indep_tr,columns=indep_tr.columns)"
   ]
  },
  {
   "cell_type": "code",
   "execution_count": 74,
   "id": "df11dcf5",
   "metadata": {},
   "outputs": [
    {
     "data": {
      "text/html": [
       "<div>\n",
       "<style scoped>\n",
       "    .dataframe tbody tr th:only-of-type {\n",
       "        vertical-align: middle;\n",
       "    }\n",
       "\n",
       "    .dataframe tbody tr th {\n",
       "        vertical-align: top;\n",
       "    }\n",
       "\n",
       "    .dataframe thead th {\n",
       "        text-align: right;\n",
       "    }\n",
       "</style>\n",
       "<table border=\"1\" class=\"dataframe\">\n",
       "  <thead>\n",
       "    <tr style=\"text-align: right;\">\n",
       "      <th></th>\n",
       "      <th>Unemployment_Rate</th>\n",
       "      <th>GDP</th>\n",
       "      <th>Personal_Tax</th>\n",
       "      <th>Mortgage_rate</th>\n",
       "      <th>Recession</th>\n",
       "      <th>Construction_Spending</th>\n",
       "      <th>No_of_PERMIT</th>\n",
       "      <th>Population</th>\n",
       "      <th>Life_Expectancy</th>\n",
       "      <th>CPI</th>\n",
       "    </tr>\n",
       "  </thead>\n",
       "  <tbody>\n",
       "    <tr>\n",
       "      <th>0</th>\n",
       "      <td>1.886125</td>\n",
       "      <td>-0.355516</td>\n",
       "      <td>-0.992811</td>\n",
       "      <td>-0.390081</td>\n",
       "      <td>-0.369274</td>\n",
       "      <td>-1.099278</td>\n",
       "      <td>-1.794597</td>\n",
       "      <td>-0.106098</td>\n",
       "      <td>0.815192</td>\n",
       "      <td>-0.338076</td>\n",
       "    </tr>\n",
       "    <tr>\n",
       "      <th>1</th>\n",
       "      <td>0.564075</td>\n",
       "      <td>-0.508258</td>\n",
       "      <td>-0.932518</td>\n",
       "      <td>0.596855</td>\n",
       "      <td>2.708013</td>\n",
       "      <td>-0.359956</td>\n",
       "      <td>-1.663988</td>\n",
       "      <td>-0.411767</td>\n",
       "      <td>0.255750</td>\n",
       "      <td>-0.311085</td>\n",
       "    </tr>\n",
       "    <tr>\n",
       "      <th>2</th>\n",
       "      <td>0.195909</td>\n",
       "      <td>-1.226036</td>\n",
       "      <td>-0.988377</td>\n",
       "      <td>0.361929</td>\n",
       "      <td>-0.369274</td>\n",
       "      <td>-0.873593</td>\n",
       "      <td>1.166133</td>\n",
       "      <td>-1.314786</td>\n",
       "      <td>-0.860418</td>\n",
       "      <td>-1.179870</td>\n",
       "    </tr>\n",
       "    <tr>\n",
       "      <th>3</th>\n",
       "      <td>0.597544</td>\n",
       "      <td>0.054520</td>\n",
       "      <td>0.351366</td>\n",
       "      <td>-0.490565</td>\n",
       "      <td>-0.369274</td>\n",
       "      <td>-0.567949</td>\n",
       "      <td>-0.749726</td>\n",
       "      <td>0.320294</td>\n",
       "      <td>1.037882</td>\n",
       "      <td>-0.009442</td>\n",
       "    </tr>\n",
       "    <tr>\n",
       "      <th>4</th>\n",
       "      <td>-0.423279</td>\n",
       "      <td>0.424931</td>\n",
       "      <td>0.802675</td>\n",
       "      <td>-1.085366</td>\n",
       "      <td>-0.369274</td>\n",
       "      <td>0.254811</td>\n",
       "      <td>-0.258763</td>\n",
       "      <td>0.723099</td>\n",
       "      <td>0.812476</td>\n",
       "      <td>0.405617</td>\n",
       "    </tr>\n",
       "  </tbody>\n",
       "</table>\n",
       "</div>"
      ],
      "text/plain": [
       "   Unemployment_Rate       GDP  Personal_Tax  Mortgage_rate   Recession  \\\n",
       "0           1.886125 -0.355516     -0.992811       -0.390081  -0.369274   \n",
       "1           0.564075 -0.508258     -0.932518        0.596855   2.708013   \n",
       "2           0.195909 -1.226036     -0.988377        0.361929  -0.369274   \n",
       "3           0.597544  0.054520      0.351366       -0.490565  -0.369274   \n",
       "4          -0.423279  0.424931      0.802675       -1.085366  -0.369274   \n",
       "\n",
       "   Construction_Spending  No_of_PERMIT  Population   Life_Expectancy       CPI  \n",
       "0              -1.099278     -1.794597    -0.106098         0.815192 -0.338076  \n",
       "1              -0.359956     -1.663988    -0.411767         0.255750 -0.311085  \n",
       "2              -0.873593      1.166133    -1.314786        -0.860418 -1.179870  \n",
       "3              -0.567949     -0.749726     0.320294         1.037882 -0.009442  \n",
       "4               0.254811     -0.258763     0.723099         0.812476  0.405617  "
      ]
     },
     "execution_count": 74,
     "metadata": {},
     "output_type": "execute_result"
    }
   ],
   "source": [
    "sc_indep_tr.head()"
   ]
  },
  {
   "cell_type": "code",
   "execution_count": 75,
   "id": "84422898",
   "metadata": {},
   "outputs": [
    {
     "data": {
      "text/html": [
       "<div>\n",
       "<style scoped>\n",
       "    .dataframe tbody tr th:only-of-type {\n",
       "        vertical-align: middle;\n",
       "    }\n",
       "\n",
       "    .dataframe tbody tr th {\n",
       "        vertical-align: top;\n",
       "    }\n",
       "\n",
       "    .dataframe thead th {\n",
       "        text-align: right;\n",
       "    }\n",
       "</style>\n",
       "<table border=\"1\" class=\"dataframe\">\n",
       "  <thead>\n",
       "    <tr style=\"text-align: right;\">\n",
       "      <th></th>\n",
       "      <th>Unemployment_Rate</th>\n",
       "      <th>GDP</th>\n",
       "      <th>Personal_Tax</th>\n",
       "      <th>Mortgage_rate</th>\n",
       "      <th>Recession</th>\n",
       "      <th>Construction_Spending</th>\n",
       "      <th>No_of_PERMIT</th>\n",
       "      <th>Population</th>\n",
       "      <th>Life_Expectancy</th>\n",
       "      <th>CPI</th>\n",
       "    </tr>\n",
       "  </thead>\n",
       "  <tbody>\n",
       "    <tr>\n",
       "      <th>0</th>\n",
       "      <td>2.143208</td>\n",
       "      <td>-0.163608</td>\n",
       "      <td>-0.618431</td>\n",
       "      <td>-0.243752</td>\n",
       "      <td>-0.433013</td>\n",
       "      <td>-1.003550</td>\n",
       "      <td>-1.333572</td>\n",
       "      <td>0.157653</td>\n",
       "      <td>0.851977</td>\n",
       "      <td>-0.009122</td>\n",
       "    </tr>\n",
       "    <tr>\n",
       "      <th>1</th>\n",
       "      <td>1.839745</td>\n",
       "      <td>-0.276661</td>\n",
       "      <td>-0.562768</td>\n",
       "      <td>-0.227147</td>\n",
       "      <td>2.309401</td>\n",
       "      <td>-0.582561</td>\n",
       "      <td>-1.507880</td>\n",
       "      <td>-0.001110</td>\n",
       "      <td>0.630943</td>\n",
       "      <td>0.025850</td>\n",
       "    </tr>\n",
       "    <tr>\n",
       "      <th>2</th>\n",
       "      <td>0.948322</td>\n",
       "      <td>0.391843</td>\n",
       "      <td>1.036155</td>\n",
       "      <td>-1.754498</td>\n",
       "      <td>-0.433013</td>\n",
       "      <td>-0.808352</td>\n",
       "      <td>-0.811830</td>\n",
       "      <td>0.726490</td>\n",
       "      <td>1.144313</td>\n",
       "      <td>0.334608</td>\n",
       "    </tr>\n",
       "    <tr>\n",
       "      <th>3</th>\n",
       "      <td>-1.308684</td>\n",
       "      <td>1.615801</td>\n",
       "      <td>1.912562</td>\n",
       "      <td>-0.676049</td>\n",
       "      <td>-0.433013</td>\n",
       "      <td>1.119854</td>\n",
       "      <td>-0.167777</td>\n",
       "      <td>1.728226</td>\n",
       "      <td>0.994580</td>\n",
       "      <td>1.573158</td>\n",
       "    </tr>\n",
       "    <tr>\n",
       "      <th>4</th>\n",
       "      <td>0.663825</td>\n",
       "      <td>0.481976</td>\n",
       "      <td>1.036155</td>\n",
       "      <td>-0.803974</td>\n",
       "      <td>-0.433013</td>\n",
       "      <td>-0.555191</td>\n",
       "      <td>-0.747425</td>\n",
       "      <td>0.820130</td>\n",
       "      <td>1.144313</td>\n",
       "      <td>0.425119</td>\n",
       "    </tr>\n",
       "  </tbody>\n",
       "</table>\n",
       "</div>"
      ],
      "text/plain": [
       "   Unemployment_Rate       GDP  Personal_Tax  Mortgage_rate   Recession  \\\n",
       "0           2.143208 -0.163608     -0.618431       -0.243752  -0.433013   \n",
       "1           1.839745 -0.276661     -0.562768       -0.227147   2.309401   \n",
       "2           0.948322  0.391843      1.036155       -1.754498  -0.433013   \n",
       "3          -1.308684  1.615801      1.912562       -0.676049  -0.433013   \n",
       "4           0.663825  0.481976      1.036155       -0.803974  -0.433013   \n",
       "\n",
       "   Construction_Spending  No_of_PERMIT  Population   Life_Expectancy       CPI  \n",
       "0              -1.003550     -1.333572     0.157653         0.851977 -0.009122  \n",
       "1              -0.582561     -1.507880    -0.001110         0.630943  0.025850  \n",
       "2              -0.808352     -0.811830     0.726490         1.144313  0.334608  \n",
       "3               1.119854     -0.167777     1.728226         0.994580  1.573158  \n",
       "4              -0.555191     -0.747425     0.820130         1.144313  0.425119  "
      ]
     },
     "execution_count": 75,
     "metadata": {},
     "output_type": "execute_result"
    }
   ],
   "source": [
    "sc_indep_ts = sc.fit_transform(indep_ts)\n",
    "sc_indep_ts=pd.DataFrame(sc_indep_ts,columns=indep_ts.columns)\n",
    "sc_indep_ts.head()"
   ]
  },
  {
   "cell_type": "markdown",
   "id": "a48f1b85",
   "metadata": {},
   "source": [
    "### Linear Regression "
   ]
  },
  {
   "cell_type": "code",
   "execution_count": 77,
   "id": "d3f1c3fe",
   "metadata": {},
   "outputs": [],
   "source": [
    "from sklearn.linear_model import LinearRegression"
   ]
  },
  {
   "cell_type": "code",
   "execution_count": 79,
   "id": "2d0ee9fe",
   "metadata": {},
   "outputs": [
    {
     "data": {
      "text/html": [
       "<style>#sk-container-id-3 {color: black;}#sk-container-id-3 pre{padding: 0;}#sk-container-id-3 div.sk-toggleable {background-color: white;}#sk-container-id-3 label.sk-toggleable__label {cursor: pointer;display: block;width: 100%;margin-bottom: 0;padding: 0.3em;box-sizing: border-box;text-align: center;}#sk-container-id-3 label.sk-toggleable__label-arrow:before {content: \"▸\";float: left;margin-right: 0.25em;color: #696969;}#sk-container-id-3 label.sk-toggleable__label-arrow:hover:before {color: black;}#sk-container-id-3 div.sk-estimator:hover label.sk-toggleable__label-arrow:before {color: black;}#sk-container-id-3 div.sk-toggleable__content {max-height: 0;max-width: 0;overflow: hidden;text-align: left;background-color: #f0f8ff;}#sk-container-id-3 div.sk-toggleable__content pre {margin: 0.2em;color: black;border-radius: 0.25em;background-color: #f0f8ff;}#sk-container-id-3 input.sk-toggleable__control:checked~div.sk-toggleable__content {max-height: 200px;max-width: 100%;overflow: auto;}#sk-container-id-3 input.sk-toggleable__control:checked~label.sk-toggleable__label-arrow:before {content: \"▾\";}#sk-container-id-3 div.sk-estimator input.sk-toggleable__control:checked~label.sk-toggleable__label {background-color: #d4ebff;}#sk-container-id-3 div.sk-label input.sk-toggleable__control:checked~label.sk-toggleable__label {background-color: #d4ebff;}#sk-container-id-3 input.sk-hidden--visually {border: 0;clip: rect(1px 1px 1px 1px);clip: rect(1px, 1px, 1px, 1px);height: 1px;margin: -1px;overflow: hidden;padding: 0;position: absolute;width: 1px;}#sk-container-id-3 div.sk-estimator {font-family: monospace;background-color: #f0f8ff;border: 1px dotted black;border-radius: 0.25em;box-sizing: border-box;margin-bottom: 0.5em;}#sk-container-id-3 div.sk-estimator:hover {background-color: #d4ebff;}#sk-container-id-3 div.sk-parallel-item::after {content: \"\";width: 100%;border-bottom: 1px solid gray;flex-grow: 1;}#sk-container-id-3 div.sk-label:hover label.sk-toggleable__label {background-color: #d4ebff;}#sk-container-id-3 div.sk-serial::before {content: \"\";position: absolute;border-left: 1px solid gray;box-sizing: border-box;top: 0;bottom: 0;left: 50%;z-index: 0;}#sk-container-id-3 div.sk-serial {display: flex;flex-direction: column;align-items: center;background-color: white;padding-right: 0.2em;padding-left: 0.2em;position: relative;}#sk-container-id-3 div.sk-item {position: relative;z-index: 1;}#sk-container-id-3 div.sk-parallel {display: flex;align-items: stretch;justify-content: center;background-color: white;position: relative;}#sk-container-id-3 div.sk-item::before, #sk-container-id-3 div.sk-parallel-item::before {content: \"\";position: absolute;border-left: 1px solid gray;box-sizing: border-box;top: 0;bottom: 0;left: 50%;z-index: -1;}#sk-container-id-3 div.sk-parallel-item {display: flex;flex-direction: column;z-index: 1;position: relative;background-color: white;}#sk-container-id-3 div.sk-parallel-item:first-child::after {align-self: flex-end;width: 50%;}#sk-container-id-3 div.sk-parallel-item:last-child::after {align-self: flex-start;width: 50%;}#sk-container-id-3 div.sk-parallel-item:only-child::after {width: 0;}#sk-container-id-3 div.sk-dashed-wrapped {border: 1px dashed gray;margin: 0 0.4em 0.5em 0.4em;box-sizing: border-box;padding-bottom: 0.4em;background-color: white;}#sk-container-id-3 div.sk-label label {font-family: monospace;font-weight: bold;display: inline-block;line-height: 1.2em;}#sk-container-id-3 div.sk-label-container {text-align: center;}#sk-container-id-3 div.sk-container {/* jupyter's `normalize.less` sets `[hidden] { display: none; }` but bootstrap.min.css set `[hidden] { display: none !important; }` so we also need the `!important` here to be able to override the default hidden behavior on the sphinx rendered scikit-learn.org. See: https://github.com/scikit-learn/scikit-learn/issues/21755 */display: inline-block !important;position: relative;}#sk-container-id-3 div.sk-text-repr-fallback {display: none;}</style><div id=\"sk-container-id-3\" class=\"sk-top-container\"><div class=\"sk-text-repr-fallback\"><pre>LinearRegression()</pre><b>In a Jupyter environment, please rerun this cell to show the HTML representation or trust the notebook. <br />On GitHub, the HTML representation is unable to render, please try loading this page with nbviewer.org.</b></div><div class=\"sk-container\" hidden><div class=\"sk-item\"><div class=\"sk-estimator sk-toggleable\"><input class=\"sk-toggleable__control sk-hidden--visually\" id=\"sk-estimator-id-3\" type=\"checkbox\" checked><label for=\"sk-estimator-id-3\" class=\"sk-toggleable__label sk-toggleable__label-arrow\">LinearRegression</label><div class=\"sk-toggleable__content\"><pre>LinearRegression()</pre></div></div></div></div></div>"
      ],
      "text/plain": [
       "LinearRegression()"
      ]
     },
     "execution_count": 79,
     "metadata": {},
     "output_type": "execute_result"
    }
   ],
   "source": [
    "rm = LinearRegression()\n",
    "rm.fit(sc_indep_tr,dep_train)"
   ]
  },
  {
   "cell_type": "markdown",
   "id": "d4499489",
   "metadata": {},
   "source": [
    "**The coefficients for each of the independent variables and the intercept for the model are given below**"
   ]
  },
  {
   "cell_type": "code",
   "execution_count": 85,
   "id": "5ffb45d8",
   "metadata": {},
   "outputs": [
    {
     "name": "stdout",
     "output_type": "stream",
     "text": [
      "The coefficient for Unemployment_Rate is 9.0800216146177\n",
      "The coefficient for GDP is 73.34170348473016\n",
      "The coefficient for Personal_Tax is -9.174634558206794\n",
      "The coefficient for Mortgage_rate  is 0.6802390331190274\n",
      "The coefficient for Recession is -0.4022843363831916\n",
      "The coefficient for Construction_Spending is 45.55199959645697\n",
      "The coefficient for No_of_PERMIT is 2.1107360320655455\n",
      "The coefficient for Population  is -24.86677889977926\n",
      "The coefficient for Life_Expectancy is 7.97436821216523\n",
      "The coefficient for CPI is -33.53366744634221\n"
     ]
    }
   ],
   "source": [
    "for idx, col_name in enumerate(sc_indep_tr.columns):\n",
    "    print(\"The coefficient for {} is {}\".format(col_name, rm.coef_[idx]))"
   ]
  },
  {
   "cell_type": "code",
   "execution_count": 83,
   "id": "95156bec",
   "metadata": {},
   "outputs": [
    {
     "data": {
      "text/plain": [
       "array([  9.08002161,  73.34170348,  -9.17463456,   0.68023903,\n",
       "        -0.40228434,  45.5519996 ,   2.11073603, -24.8667789 ,\n",
       "         7.97436821, -33.53366745])"
      ]
     },
     "execution_count": 83,
     "metadata": {},
     "output_type": "execute_result"
    }
   ],
   "source": [
    "rm.coef_"
   ]
  },
  {
   "cell_type": "code",
   "execution_count": 87,
   "id": "e530930f",
   "metadata": {},
   "outputs": [
    {
     "name": "stdout",
     "output_type": "stream",
     "text": [
      "The intercept for our model is 176.36363111111095\n"
     ]
    }
   ],
   "source": [
    "intercept = rm.intercept_\n",
    "\n",
    "print(\"The intercept for our model is {}\".format(intercept))"
   ]
  },
  {
   "cell_type": "markdown",
   "id": "6eefe132",
   "metadata": {},
   "source": [
    "**R^2 (co-efficient of Determinant) for train and test data are given below**"
   ]
  },
  {
   "cell_type": "code",
   "execution_count": 91,
   "id": "bf94d02a",
   "metadata": {},
   "outputs": [],
   "source": [
    "score_tr=rm.score(sc_indep_tr,dep_train)\n",
    "score_ts=rm.score(sc_indep_ts,dep_test)"
   ]
  },
  {
   "cell_type": "code",
   "execution_count": 92,
   "id": "b8a241b4",
   "metadata": {},
   "outputs": [
    {
     "name": "stdout",
     "output_type": "stream",
     "text": [
      "R-Sqare for training data is 0.98996313874578\n",
      "R-Sqare for testing data is 0.8403053752090128\n"
     ]
    }
   ],
   "source": [
    "print('R-Sqare for training data is',score_tr)\n",
    "print('R-Sqare for testing data is',score_ts)"
   ]
  },
  {
   "cell_type": "markdown",
   "id": "56921f90",
   "metadata": {},
   "source": [
    "**RMSE for train and test data are given below**"
   ]
  },
  {
   "cell_type": "code",
   "execution_count": 93,
   "id": "be479949",
   "metadata": {},
   "outputs": [],
   "source": [
    "from sklearn import metrics"
   ]
  },
  {
   "cell_type": "code",
   "execution_count": 94,
   "id": "aa839f93",
   "metadata": {},
   "outputs": [],
   "source": [
    "pred_tr=rm.predict(sc_indep_tr)\n",
    "pred_ts=rm.predict(sc_indep_ts)"
   ]
  },
  {
   "cell_type": "code",
   "execution_count": 96,
   "id": "01ef7866",
   "metadata": {},
   "outputs": [],
   "source": [
    "rmse_tr=np.sqrt(metrics.mean_squared_error(dep_train,pred_tr))\n",
    "rmse_ts=np.sqrt(metrics.mean_squared_error(dep_test,pred_ts))"
   ]
  },
  {
   "cell_type": "code",
   "execution_count": 97,
   "id": "d02d9ba6",
   "metadata": {},
   "outputs": [
    {
     "name": "stdout",
     "output_type": "stream",
     "text": [
      "RMSE for training data is 5.0073935517414325\n",
      "RMSE for testing data is 15.072782901099743\n"
     ]
    }
   ],
   "source": [
    "print('RMSE for training data is',rmse_tr)\n",
    "print('RMSE for testing data is',rmse_ts)"
   ]
  },
  {
   "cell_type": "markdown",
   "id": "05d13f65",
   "metadata": {},
   "source": [
    "**The Linear equation for model is given below**"
   ]
  },
  {
   "cell_type": "code",
   "execution_count": 102,
   "id": "41007c08",
   "metadata": {},
   "outputs": [
    {
     "name": "stdout",
     "output_type": "stream",
     "text": [
      "Unemployment_Rate * 9.0800216146177 +  GDP * 73.34170348473016 +  Personal_Tax * -9.174634558206794 +  Mortgage_rate  * 0.6802390331190274 +  Recession * -0.4022843363831916 +  Construction_Spending * 45.55199959645697 +  No_of_PERMIT * 2.1107360320655455 +  Population  * -24.86677889977926 +  Life_Expectancy * 7.97436821216523 +  CPI * -33.53366744634221 +  "
     ]
    }
   ],
   "source": [
    "for idx, col_name in enumerate(sc_indep_tr.columns):\n",
    "    print(\"{} * {} + \".format(col_name, rm.coef_[idx]),end=' ')\n"
   ]
  },
  {
   "cell_type": "markdown",
   "id": "b89f7c58",
   "metadata": {},
   "source": [
    "**The following are best 5 params which influencing price.** \n",
    "* one unit increase in Unemployment_Rate  increase the HPI by 9.0 units,keeping all other attributes constant.\n",
    "* one unit increase in GDP increase the HPI by 73.34 units,keeping all other attributes constant.\n",
    "* one unit increase in Construction_Spending increase the HPI by 45.55 units,keeping all other attributes constant.\n",
    "* one unit increase in Personal_Tax decrease the HPI by 9.17 units ,keeping all other attributes constant.\n",
    "* one unit increase in CPI decrease the HPI by 33.53 units ,keeping all other attributes constant. "
   ]
  },
  {
   "cell_type": "markdown",
   "id": "383f168b",
   "metadata": {},
   "source": [
    "### Time Series Forecasting"
   ]
  },
  {
   "cell_type": "markdown",
   "id": "8a233634",
   "metadata": {},
   "source": [
    "**Letz Forecast HPI for upcoming quarters for next 2 year using ARIMA model.Most of our data not captured seasonality, so we didnt include seasonality in our forecasting**\n",
    "\n",
    "To perform a forecasting i have considered only date and HPI column."
   ]
  },
  {
   "cell_type": "code",
   "execution_count": 105,
   "id": "1d2d22eb",
   "metadata": {},
   "outputs": [],
   "source": [
    "df1=pd.read_excel('HPI_Dataset.xlsx')"
   ]
  },
  {
   "cell_type": "code",
   "execution_count": 107,
   "id": "f42f84cc",
   "metadata": {},
   "outputs": [],
   "source": [
    "df = df1[['Date','HPI']]"
   ]
  },
  {
   "cell_type": "code",
   "execution_count": 108,
   "id": "8ee8364b",
   "metadata": {},
   "outputs": [
    {
     "data": {
      "text/html": [
       "<div>\n",
       "<style scoped>\n",
       "    .dataframe tbody tr th:only-of-type {\n",
       "        vertical-align: middle;\n",
       "    }\n",
       "\n",
       "    .dataframe tbody tr th {\n",
       "        vertical-align: top;\n",
       "    }\n",
       "\n",
       "    .dataframe thead th {\n",
       "        text-align: right;\n",
       "    }\n",
       "</style>\n",
       "<table border=\"1\" class=\"dataframe\">\n",
       "  <thead>\n",
       "    <tr style=\"text-align: right;\">\n",
       "      <th></th>\n",
       "      <th>Date</th>\n",
       "      <th>HPI</th>\n",
       "    </tr>\n",
       "  </thead>\n",
       "  <tbody>\n",
       "    <tr>\n",
       "      <th>0</th>\n",
       "      <td>2000-01-01</td>\n",
       "      <td>101.339000</td>\n",
       "    </tr>\n",
       "    <tr>\n",
       "      <th>1</th>\n",
       "      <td>2000-04-01</td>\n",
       "      <td>103.675000</td>\n",
       "    </tr>\n",
       "    <tr>\n",
       "      <th>2</th>\n",
       "      <td>2000-07-01</td>\n",
       "      <td>105.786667</td>\n",
       "    </tr>\n",
       "    <tr>\n",
       "      <th>3</th>\n",
       "      <td>2000-10-01</td>\n",
       "      <td>108.274667</td>\n",
       "    </tr>\n",
       "    <tr>\n",
       "      <th>4</th>\n",
       "      <td>2001-01-01</td>\n",
       "      <td>110.485333</td>\n",
       "    </tr>\n",
       "  </tbody>\n",
       "</table>\n",
       "</div>"
      ],
      "text/plain": [
       "        Date         HPI\n",
       "0 2000-01-01  101.339000\n",
       "1 2000-04-01  103.675000\n",
       "2 2000-07-01  105.786667\n",
       "3 2000-10-01  108.274667\n",
       "4 2001-01-01  110.485333"
      ]
     },
     "execution_count": 108,
     "metadata": {},
     "output_type": "execute_result"
    }
   ],
   "source": [
    "df.head()"
   ]
  },
  {
   "cell_type": "code",
   "execution_count": 110,
   "id": "b78edc4b",
   "metadata": {},
   "outputs": [
    {
     "data": {
      "text/html": [
       "<div>\n",
       "<style scoped>\n",
       "    .dataframe tbody tr th:only-of-type {\n",
       "        vertical-align: middle;\n",
       "    }\n",
       "\n",
       "    .dataframe tbody tr th {\n",
       "        vertical-align: top;\n",
       "    }\n",
       "\n",
       "    .dataframe thead th {\n",
       "        text-align: right;\n",
       "    }\n",
       "</style>\n",
       "<table border=\"1\" class=\"dataframe\">\n",
       "  <thead>\n",
       "    <tr style=\"text-align: right;\">\n",
       "      <th></th>\n",
       "      <th>Date</th>\n",
       "      <th>HPI</th>\n",
       "    </tr>\n",
       "  </thead>\n",
       "  <tbody>\n",
       "    <tr>\n",
       "      <th>89</th>\n",
       "      <td>2022-04-01</td>\n",
       "      <td>303.088000</td>\n",
       "    </tr>\n",
       "    <tr>\n",
       "      <th>90</th>\n",
       "      <td>2022-07-01</td>\n",
       "      <td>301.625667</td>\n",
       "    </tr>\n",
       "    <tr>\n",
       "      <th>91</th>\n",
       "      <td>2022-10-01</td>\n",
       "      <td>298.269333</td>\n",
       "    </tr>\n",
       "    <tr>\n",
       "      <th>92</th>\n",
       "      <td>2023-01-01</td>\n",
       "      <td>297.530333</td>\n",
       "    </tr>\n",
       "    <tr>\n",
       "      <th>93</th>\n",
       "      <td>2023-04-01</td>\n",
       "      <td>302.544667</td>\n",
       "    </tr>\n",
       "  </tbody>\n",
       "</table>\n",
       "</div>"
      ],
      "text/plain": [
       "         Date         HPI\n",
       "89 2022-04-01  303.088000\n",
       "90 2022-07-01  301.625667\n",
       "91 2022-10-01  298.269333\n",
       "92 2023-01-01  297.530333\n",
       "93 2023-04-01  302.544667"
      ]
     },
     "execution_count": 110,
     "metadata": {},
     "output_type": "execute_result"
    }
   ],
   "source": [
    "df.tail()"
   ]
  },
  {
   "cell_type": "code",
   "execution_count": 124,
   "id": "e246b902",
   "metadata": {},
   "outputs": [],
   "source": [
    "df = df.set_index('Date')"
   ]
  },
  {
   "cell_type": "code",
   "execution_count": 125,
   "id": "b10550ff",
   "metadata": {},
   "outputs": [],
   "source": [
    "df_tr   =   df[0:79] \n",
    "df_ts    =   df[80:]"
   ]
  },
  {
   "cell_type": "code",
   "execution_count": 126,
   "id": "8e344160",
   "metadata": {},
   "outputs": [
    {
     "data": {
      "text/html": [
       "<div>\n",
       "<style scoped>\n",
       "    .dataframe tbody tr th:only-of-type {\n",
       "        vertical-align: middle;\n",
       "    }\n",
       "\n",
       "    .dataframe tbody tr th {\n",
       "        vertical-align: top;\n",
       "    }\n",
       "\n",
       "    .dataframe thead th {\n",
       "        text-align: right;\n",
       "    }\n",
       "</style>\n",
       "<table border=\"1\" class=\"dataframe\">\n",
       "  <thead>\n",
       "    <tr style=\"text-align: right;\">\n",
       "      <th></th>\n",
       "      <th>HPI</th>\n",
       "    </tr>\n",
       "    <tr>\n",
       "      <th>Date</th>\n",
       "      <th></th>\n",
       "    </tr>\n",
       "  </thead>\n",
       "  <tbody>\n",
       "    <tr>\n",
       "      <th>2000-01-01</th>\n",
       "      <td>101.339000</td>\n",
       "    </tr>\n",
       "    <tr>\n",
       "      <th>2000-04-01</th>\n",
       "      <td>103.675000</td>\n",
       "    </tr>\n",
       "    <tr>\n",
       "      <th>2000-07-01</th>\n",
       "      <td>105.786667</td>\n",
       "    </tr>\n",
       "    <tr>\n",
       "      <th>2000-10-01</th>\n",
       "      <td>108.274667</td>\n",
       "    </tr>\n",
       "    <tr>\n",
       "      <th>2001-01-01</th>\n",
       "      <td>110.485333</td>\n",
       "    </tr>\n",
       "  </tbody>\n",
       "</table>\n",
       "</div>"
      ],
      "text/plain": [
       "                   HPI\n",
       "Date                  \n",
       "2000-01-01  101.339000\n",
       "2000-04-01  103.675000\n",
       "2000-07-01  105.786667\n",
       "2000-10-01  108.274667\n",
       "2001-01-01  110.485333"
      ]
     },
     "execution_count": 126,
     "metadata": {},
     "output_type": "execute_result"
    }
   ],
   "source": [
    "df_tr.head()"
   ]
  },
  {
   "cell_type": "code",
   "execution_count": 127,
   "id": "b085337f",
   "metadata": {},
   "outputs": [
    {
     "data": {
      "text/html": [
       "<div>\n",
       "<style scoped>\n",
       "    .dataframe tbody tr th:only-of-type {\n",
       "        vertical-align: middle;\n",
       "    }\n",
       "\n",
       "    .dataframe tbody tr th {\n",
       "        vertical-align: top;\n",
       "    }\n",
       "\n",
       "    .dataframe thead th {\n",
       "        text-align: right;\n",
       "    }\n",
       "</style>\n",
       "<table border=\"1\" class=\"dataframe\">\n",
       "  <thead>\n",
       "    <tr style=\"text-align: right;\">\n",
       "      <th></th>\n",
       "      <th>HPI</th>\n",
       "    </tr>\n",
       "    <tr>\n",
       "      <th>Date</th>\n",
       "      <th></th>\n",
       "    </tr>\n",
       "  </thead>\n",
       "  <tbody>\n",
       "    <tr>\n",
       "      <th>2020-01-01</th>\n",
       "      <td>215.681333</td>\n",
       "    </tr>\n",
       "    <tr>\n",
       "      <th>2020-04-01</th>\n",
       "      <td>217.156000</td>\n",
       "    </tr>\n",
       "    <tr>\n",
       "      <th>2020-07-01</th>\n",
       "      <td>222.562000</td>\n",
       "    </tr>\n",
       "    <tr>\n",
       "      <th>2020-10-01</th>\n",
       "      <td>233.195000</td>\n",
       "    </tr>\n",
       "    <tr>\n",
       "      <th>2021-01-01</th>\n",
       "      <td>242.343667</td>\n",
       "    </tr>\n",
       "  </tbody>\n",
       "</table>\n",
       "</div>"
      ],
      "text/plain": [
       "                   HPI\n",
       "Date                  \n",
       "2020-01-01  215.681333\n",
       "2020-04-01  217.156000\n",
       "2020-07-01  222.562000\n",
       "2020-10-01  233.195000\n",
       "2021-01-01  242.343667"
      ]
     },
     "execution_count": 127,
     "metadata": {},
     "output_type": "execute_result"
    }
   ],
   "source": [
    "df_ts.head()"
   ]
  },
  {
   "cell_type": "markdown",
   "id": "998f0dd3",
   "metadata": {},
   "source": [
    "**we are using Dicky Fuller test to check the stationarity of the time series**"
   ]
  },
  {
   "cell_type": "markdown",
   "id": "e53e323c",
   "metadata": {},
   "source": [
    "The hypothesis in a simple form for the ADF test is:\n",
    "* $H_0$ : The Time Series has a unit root and is thus non-stationary.\n",
    "* $H_1$ : The Time Series does not have a unit root and is thus stationary.`  \n",
    "\n",
    "We would want the series to be stationary for building SARIMA models and thus we would want the p-value of this test to be less than the $\\alpha$ = 0.05"
   ]
  },
  {
   "cell_type": "markdown",
   "id": "82a768ee",
   "metadata": {},
   "source": [
    "We are checking stationarity for the Train Data only because, we are building any models on the Train Data only.We are evaluating our models on Test data, so no\n",
    "need to check stationarity for test data."
   ]
  },
  {
   "cell_type": "code",
   "execution_count": 128,
   "id": "a2de342a",
   "metadata": {},
   "outputs": [],
   "source": [
    "from statsmodels.tsa.stattools import adfuller"
   ]
  },
  {
   "cell_type": "code",
   "execution_count": 129,
   "id": "2ffcd584",
   "metadata": {},
   "outputs": [
    {
     "name": "stdout",
     "output_type": "stream",
     "text": [
      "DF test statistic is -3.493\n",
      "DF test p-value is 0.04018991037502983\n",
      "Number of lags used 3\n"
     ]
    }
   ],
   "source": [
    "dftest = adfuller(df_tr,regression='ct')\n",
    "print('DF test statistic is %3.3f' %dftest[0])\n",
    "print('DF test p-value is' ,dftest[1])\n",
    "print('Number of lags used' ,dftest[2])"
   ]
  },
  {
   "cell_type": "markdown",
   "id": "ed714dc5",
   "metadata": {},
   "source": [
    "Our Time Series is stationary,Since p_value is lesser  than $\\alpha$. Below plots shows the stationary series of train data."
   ]
  },
  {
   "cell_type": "code",
   "execution_count": 139,
   "id": "d11e2911",
   "metadata": {},
   "outputs": [],
   "source": [
    "from pylab import rcParams\n",
    "rcParams['figure.figsize']=15,6"
   ]
  },
  {
   "cell_type": "code",
   "execution_count": 140,
   "id": "0cd73f86",
   "metadata": {},
   "outputs": [
    {
     "data": {
      "text/plain": [
       "Text(0.5, 1.05, 'Stationary series of train data')"
      ]
     },
     "execution_count": 140,
     "metadata": {},
     "output_type": "execute_result"
    },
    {
     "data": {
      "image/png": "[encoded data removed]",
      "text/plain": [
       "<Figure size 1500x600 with 1 Axes>"
      ]
     },
     "metadata": {},
     "output_type": "display_data"
    }
   ],
   "source": [
    "df_tr.dropna().plot(grid=True);\n",
    "plt.title('Stationary series of train data',fontsize=15,y=1.05,color='b',weight='bold')"
   ]
  },
  {
   "cell_type": "markdown",
   "id": "964fa28a",
   "metadata": {},
   "source": [
    "#### Parameters selection using the lowest Akaike Information Criteria (AIC)\n",
    "* Taking p & q = (0,1,2,3)\n",
    "* d=0, as we didnt take any differnce to make stationarity."
   ]
  },
  {
   "cell_type": "code",
   "execution_count": 162,
   "id": "0b5b2275",
   "metadata": {},
   "outputs": [
    {
     "name": "stdout",
     "output_type": "stream",
     "text": [
      "Examples of the parameter combinations for the Model\n",
      "Model: (0, 0, 0)\n",
      "Model: (0, 0, 1)\n",
      "Model: (0, 0, 2)\n",
      "Model: (0, 0, 3)\n",
      "Model: (1, 0, 0)\n",
      "Model: (1, 0, 1)\n",
      "Model: (1, 0, 2)\n",
      "Model: (1, 0, 3)\n",
      "Model: (2, 0, 0)\n",
      "Model: (2, 0, 1)\n",
      "Model: (2, 0, 2)\n",
      "Model: (2, 0, 3)\n",
      "Model: (3, 0, 0)\n",
      "Model: (3, 0, 1)\n",
      "Model: (3, 0, 2)\n",
      "Model: (3, 0, 3)\n"
     ]
    }
   ],
   "source": [
    "import itertools\n",
    "p = q = range(0, 4)\n",
    "d= range(0,1)\n",
    "pdq = tuple(list(itertools.product(p, d, q)))\n",
    "print('Examples of the parameter combinations for the Model')\n",
    "for i in range(0,len(pdq)):\n",
    "    print('Model: {}'.format(pdq[i]))"
   ]
  },
  {
   "cell_type": "code",
   "execution_count": 163,
   "id": "259c0d1a",
   "metadata": {},
   "outputs": [
    {
     "data": {
      "text/plain": [
       "((0, 0, 0),\n",
       " (0, 0, 1),\n",
       " (0, 0, 2),\n",
       " (0, 0, 3),\n",
       " (1, 0, 0),\n",
       " (1, 0, 1),\n",
       " (1, 0, 2),\n",
       " (1, 0, 3),\n",
       " (2, 0, 0),\n",
       " (2, 0, 1),\n",
       " (2, 0, 2),\n",
       " (2, 0, 3),\n",
       " (3, 0, 0),\n",
       " (3, 0, 1),\n",
       " (3, 0, 2),\n",
       " (3, 0, 3))"
      ]
     },
     "execution_count": 163,
     "metadata": {},
     "output_type": "execute_result"
    }
   ],
   "source": [
    "pdq"
   ]
  },
  {
   "cell_type": "code",
   "execution_count": 164,
   "id": "7adcddd9",
   "metadata": {},
   "outputs": [],
   "source": [
    "from statsmodels.tsa.arima.model import ARIMA"
   ]
  },
  {
   "cell_type": "code",
   "execution_count": 165,
   "id": "0ae57809",
   "metadata": {},
   "outputs": [
    {
     "data": {
      "text/html": [
       "<div>\n",
       "<style scoped>\n",
       "    .dataframe tbody tr th:only-of-type {\n",
       "        vertical-align: middle;\n",
       "    }\n",
       "\n",
       "    .dataframe tbody tr th {\n",
       "        vertical-align: top;\n",
       "    }\n",
       "\n",
       "    .dataframe thead th {\n",
       "        text-align: right;\n",
       "    }\n",
       "</style>\n",
       "<table border=\"1\" class=\"dataframe\">\n",
       "  <thead>\n",
       "    <tr style=\"text-align: right;\">\n",
       "      <th></th>\n",
       "      <th>param</th>\n",
       "      <th>AIC</th>\n",
       "    </tr>\n",
       "  </thead>\n",
       "  <tbody>\n",
       "  </tbody>\n",
       "</table>\n",
       "</div>"
      ],
      "text/plain": [
       "Empty DataFrame\n",
       "Columns: [param, AIC]\n",
       "Index: []"
      ]
     },
     "execution_count": 165,
     "metadata": {},
     "output_type": "execute_result"
    }
   ],
   "source": [
    "ARIMA_AIC = pd.DataFrame(columns=['param', 'AIC'])\n",
    "ARIMA_AIC"
   ]
  },
  {
   "cell_type": "code",
   "execution_count": 166,
   "id": "55726509",
   "metadata": {},
   "outputs": [
    {
     "data": {
      "text/plain": [
       "tuple"
      ]
     },
     "execution_count": 166,
     "metadata": {},
     "output_type": "execute_result"
    }
   ],
   "source": [
    "type(pdq)"
   ]
  },
  {
   "cell_type": "code",
   "execution_count": 167,
   "id": "82dd0d86",
   "metadata": {},
   "outputs": [
    {
     "name": "stderr",
     "output_type": "stream",
     "text": [
      "C:\\Users\\karth\\anaconda3\\Lib\\site-packages\\statsmodels\\tsa\\base\\tsa_model.py:473: ValueWarning: No frequency information was provided, so inferred frequency QS-OCT will be used.\n",
      "  self._init_dates(dates, freq)\n",
      "C:\\Users\\karth\\anaconda3\\Lib\\site-packages\\statsmodels\\tsa\\base\\tsa_model.py:473: ValueWarning: No frequency information was provided, so inferred frequency QS-OCT will be used.\n",
      "  self._init_dates(dates, freq)\n",
      "C:\\Users\\karth\\anaconda3\\Lib\\site-packages\\statsmodels\\tsa\\base\\tsa_model.py:473: ValueWarning: No frequency information was provided, so inferred frequency QS-OCT will be used.\n",
      "  self._init_dates(dates, freq)\n",
      "C:\\Users\\karth\\anaconda3\\Lib\\site-packages\\statsmodels\\tsa\\base\\tsa_model.py:473: ValueWarning: No frequency information was provided, so inferred frequency QS-OCT will be used.\n",
      "  self._init_dates(dates, freq)\n",
      "C:\\Users\\karth\\anaconda3\\Lib\\site-packages\\statsmodels\\tsa\\base\\tsa_model.py:473: ValueWarning: No frequency information was provided, so inferred frequency QS-OCT will be used.\n",
      "  self._init_dates(dates, freq)\n",
      "C:\\Users\\karth\\anaconda3\\Lib\\site-packages\\statsmodels\\tsa\\base\\tsa_model.py:473: ValueWarning: No frequency information was provided, so inferred frequency QS-OCT will be used.\n",
      "  self._init_dates(dates, freq)\n",
      "C:\\Users\\karth\\anaconda3\\Lib\\site-packages\\statsmodels\\tsa\\base\\tsa_model.py:473: ValueWarning: No frequency information was provided, so inferred frequency QS-OCT will be used.\n",
      "  self._init_dates(dates, freq)\n",
      "C:\\Users\\karth\\anaconda3\\Lib\\site-packages\\statsmodels\\tsa\\base\\tsa_model.py:473: ValueWarning: No frequency information was provided, so inferred frequency QS-OCT will be used.\n",
      "  self._init_dates(dates, freq)\n",
      "C:\\Users\\karth\\anaconda3\\Lib\\site-packages\\statsmodels\\tsa\\base\\tsa_model.py:473: ValueWarning: No frequency information was provided, so inferred frequency QS-OCT will be used.\n",
      "  self._init_dates(dates, freq)\n"
     ]
    },
    {
     "name": "stdout",
     "output_type": "stream",
     "text": [
      "ARIMA(0, 0, 0) - AIC:752.2381154610341\n",
      "ARIMA(0, 0, 1) - AIC:653.4062674726989\n",
      "ARIMA(0, 0, 2) - AIC:562.0805064439219\n"
     ]
    },
    {
     "name": "stderr",
     "output_type": "stream",
     "text": [
      "C:\\Users\\karth\\anaconda3\\Lib\\site-packages\\statsmodels\\tsa\\base\\tsa_model.py:473: ValueWarning: No frequency information was provided, so inferred frequency QS-OCT will be used.\n",
      "  self._init_dates(dates, freq)\n",
      "C:\\Users\\karth\\anaconda3\\Lib\\site-packages\\statsmodels\\tsa\\base\\tsa_model.py:473: ValueWarning: No frequency information was provided, so inferred frequency QS-OCT will be used.\n",
      "  self._init_dates(dates, freq)\n",
      "C:\\Users\\karth\\anaconda3\\Lib\\site-packages\\statsmodels\\tsa\\base\\tsa_model.py:473: ValueWarning: No frequency information was provided, so inferred frequency QS-OCT will be used.\n",
      "  self._init_dates(dates, freq)\n",
      "C:\\Users\\karth\\anaconda3\\Lib\\site-packages\\statsmodels\\base\\model.py:607: ConvergenceWarning: Maximum Likelihood optimization failed to converge. Check mle_retvals\n",
      "  warnings.warn(\"Maximum Likelihood optimization failed to \"\n",
      "C:\\Users\\karth\\anaconda3\\Lib\\site-packages\\statsmodels\\tsa\\base\\tsa_model.py:473: ValueWarning: No frequency information was provided, so inferred frequency QS-OCT will be used.\n",
      "  self._init_dates(dates, freq)\n",
      "C:\\Users\\karth\\anaconda3\\Lib\\site-packages\\statsmodels\\tsa\\base\\tsa_model.py:473: ValueWarning: No frequency information was provided, so inferred frequency QS-OCT will be used.\n",
      "  self._init_dates(dates, freq)\n",
      "C:\\Users\\karth\\anaconda3\\Lib\\site-packages\\statsmodels\\tsa\\base\\tsa_model.py:473: ValueWarning: No frequency information was provided, so inferred frequency QS-OCT will be used.\n",
      "  self._init_dates(dates, freq)\n",
      "C:\\Users\\karth\\anaconda3\\Lib\\site-packages\\statsmodels\\tsa\\base\\tsa_model.py:473: ValueWarning: No frequency information was provided, so inferred frequency QS-OCT will be used.\n",
      "  self._init_dates(dates, freq)\n",
      "C:\\Users\\karth\\anaconda3\\Lib\\site-packages\\statsmodels\\tsa\\base\\tsa_model.py:473: ValueWarning: No frequency information was provided, so inferred frequency QS-OCT will be used.\n",
      "  self._init_dates(dates, freq)\n",
      "C:\\Users\\karth\\anaconda3\\Lib\\site-packages\\statsmodels\\tsa\\base\\tsa_model.py:473: ValueWarning: No frequency information was provided, so inferred frequency QS-OCT will be used.\n",
      "  self._init_dates(dates, freq)\n",
      "C:\\Users\\karth\\anaconda3\\Lib\\site-packages\\statsmodels\\tsa\\base\\tsa_model.py:473: ValueWarning: No frequency information was provided, so inferred frequency QS-OCT will be used.\n",
      "  self._init_dates(dates, freq)\n",
      "C:\\Users\\karth\\anaconda3\\Lib\\site-packages\\statsmodels\\tsa\\base\\tsa_model.py:473: ValueWarning: No frequency information was provided, so inferred frequency QS-OCT will be used.\n",
      "  self._init_dates(dates, freq)\n",
      "C:\\Users\\karth\\anaconda3\\Lib\\site-packages\\statsmodels\\tsa\\base\\tsa_model.py:473: ValueWarning: No frequency information was provided, so inferred frequency QS-OCT will be used.\n",
      "  self._init_dates(dates, freq)\n",
      "C:\\Users\\karth\\anaconda3\\Lib\\site-packages\\statsmodels\\tsa\\base\\tsa_model.py:473: ValueWarning: No frequency information was provided, so inferred frequency QS-OCT will be used.\n",
      "  self._init_dates(dates, freq)\n",
      "C:\\Users\\karth\\anaconda3\\Lib\\site-packages\\statsmodels\\tsa\\base\\tsa_model.py:473: ValueWarning: No frequency information was provided, so inferred frequency QS-OCT will be used.\n",
      "  self._init_dates(dates, freq)\n",
      "C:\\Users\\karth\\anaconda3\\Lib\\site-packages\\statsmodels\\tsa\\base\\tsa_model.py:473: ValueWarning: No frequency information was provided, so inferred frequency QS-OCT will be used.\n",
      "  self._init_dates(dates, freq)\n"
     ]
    },
    {
     "name": "stdout",
     "output_type": "stream",
     "text": [
      "ARIMA(0, 0, 3) - AIC:488.206007598343\n",
      "ARIMA(1, 0, 0) - AIC:409.8309632116177\n",
      "ARIMA(1, 0, 1) - AIC:330.95241333434126\n",
      "ARIMA(1, 0, 2) - AIC:289.02653816663985\n",
      "ARIMA(1, 0, 3) - AIC:280.29984806588845\n",
      "ARIMA(2, 0, 0) - AIC:256.448744287282\n"
     ]
    },
    {
     "name": "stderr",
     "output_type": "stream",
     "text": [
      "C:\\Users\\karth\\anaconda3\\Lib\\site-packages\\statsmodels\\tsa\\base\\tsa_model.py:473: ValueWarning: No frequency information was provided, so inferred frequency QS-OCT will be used.\n",
      "  self._init_dates(dates, freq)\n",
      "C:\\Users\\karth\\anaconda3\\Lib\\site-packages\\statsmodels\\tsa\\base\\tsa_model.py:473: ValueWarning: No frequency information was provided, so inferred frequency QS-OCT will be used.\n",
      "  self._init_dates(dates, freq)\n",
      "C:\\Users\\karth\\anaconda3\\Lib\\site-packages\\statsmodels\\tsa\\base\\tsa_model.py:473: ValueWarning: No frequency information was provided, so inferred frequency QS-OCT will be used.\n",
      "  self._init_dates(dates, freq)\n",
      "C:\\Users\\karth\\anaconda3\\Lib\\site-packages\\statsmodels\\tsa\\base\\tsa_model.py:473: ValueWarning: No frequency information was provided, so inferred frequency QS-OCT will be used.\n",
      "  self._init_dates(dates, freq)\n",
      "C:\\Users\\karth\\anaconda3\\Lib\\site-packages\\statsmodels\\tsa\\base\\tsa_model.py:473: ValueWarning: No frequency information was provided, so inferred frequency QS-OCT will be used.\n",
      "  self._init_dates(dates, freq)\n",
      "C:\\Users\\karth\\anaconda3\\Lib\\site-packages\\statsmodels\\tsa\\base\\tsa_model.py:473: ValueWarning: No frequency information was provided, so inferred frequency QS-OCT will be used.\n",
      "  self._init_dates(dates, freq)\n"
     ]
    },
    {
     "name": "stdout",
     "output_type": "stream",
     "text": [
      "ARIMA(2, 0, 1) - AIC:251.9691351391336\n"
     ]
    },
    {
     "name": "stderr",
     "output_type": "stream",
     "text": [
      "C:\\Users\\karth\\anaconda3\\Lib\\site-packages\\statsmodels\\tsa\\base\\tsa_model.py:473: ValueWarning: No frequency information was provided, so inferred frequency QS-OCT will be used.\n",
      "  self._init_dates(dates, freq)\n",
      "C:\\Users\\karth\\anaconda3\\Lib\\site-packages\\statsmodels\\tsa\\base\\tsa_model.py:473: ValueWarning: No frequency information was provided, so inferred frequency QS-OCT will be used.\n",
      "  self._init_dates(dates, freq)\n",
      "C:\\Users\\karth\\anaconda3\\Lib\\site-packages\\statsmodels\\tsa\\base\\tsa_model.py:473: ValueWarning: No frequency information was provided, so inferred frequency QS-OCT will be used.\n",
      "  self._init_dates(dates, freq)\n",
      "C:\\Users\\karth\\anaconda3\\Lib\\site-packages\\statsmodels\\base\\model.py:607: ConvergenceWarning: Maximum Likelihood optimization failed to converge. Check mle_retvals\n",
      "  warnings.warn(\"Maximum Likelihood optimization failed to \"\n",
      "C:\\Users\\karth\\anaconda3\\Lib\\site-packages\\statsmodels\\tsa\\base\\tsa_model.py:473: ValueWarning: No frequency information was provided, so inferred frequency QS-OCT will be used.\n",
      "  self._init_dates(dates, freq)\n",
      "C:\\Users\\karth\\anaconda3\\Lib\\site-packages\\statsmodels\\tsa\\base\\tsa_model.py:473: ValueWarning: No frequency information was provided, so inferred frequency QS-OCT will be used.\n",
      "  self._init_dates(dates, freq)\n",
      "C:\\Users\\karth\\anaconda3\\Lib\\site-packages\\statsmodels\\tsa\\base\\tsa_model.py:473: ValueWarning: No frequency information was provided, so inferred frequency QS-OCT will be used.\n",
      "  self._init_dates(dates, freq)\n"
     ]
    },
    {
     "name": "stdout",
     "output_type": "stream",
     "text": [
      "ARIMA(2, 0, 2) - AIC:249.74299990039705\n",
      "ARIMA(2, 0, 3) - AIC:251.44077884554596\n",
      "ARIMA(3, 0, 0) - AIC:256.4773686353677\n"
     ]
    },
    {
     "name": "stderr",
     "output_type": "stream",
     "text": [
      "C:\\Users\\karth\\anaconda3\\Lib\\site-packages\\statsmodels\\tsa\\base\\tsa_model.py:473: ValueWarning: No frequency information was provided, so inferred frequency QS-OCT will be used.\n",
      "  self._init_dates(dates, freq)\n",
      "C:\\Users\\karth\\anaconda3\\Lib\\site-packages\\statsmodels\\tsa\\base\\tsa_model.py:473: ValueWarning: No frequency information was provided, so inferred frequency QS-OCT will be used.\n",
      "  self._init_dates(dates, freq)\n",
      "C:\\Users\\karth\\anaconda3\\Lib\\site-packages\\statsmodels\\tsa\\base\\tsa_model.py:473: ValueWarning: No frequency information was provided, so inferred frequency QS-OCT will be used.\n",
      "  self._init_dates(dates, freq)\n",
      "C:\\Users\\karth\\anaconda3\\Lib\\site-packages\\statsmodels\\tsa\\base\\tsa_model.py:473: ValueWarning: No frequency information was provided, so inferred frequency QS-OCT will be used.\n",
      "  self._init_dates(dates, freq)\n",
      "C:\\Users\\karth\\anaconda3\\Lib\\site-packages\\statsmodels\\tsa\\base\\tsa_model.py:473: ValueWarning: No frequency information was provided, so inferred frequency QS-OCT will be used.\n",
      "  self._init_dates(dates, freq)\n",
      "C:\\Users\\karth\\anaconda3\\Lib\\site-packages\\statsmodels\\tsa\\base\\tsa_model.py:473: ValueWarning: No frequency information was provided, so inferred frequency QS-OCT will be used.\n",
      "  self._init_dates(dates, freq)\n"
     ]
    },
    {
     "name": "stdout",
     "output_type": "stream",
     "text": [
      "ARIMA(3, 0, 1) - AIC:251.88674651229002\n"
     ]
    },
    {
     "name": "stderr",
     "output_type": "stream",
     "text": [
      "C:\\Users\\karth\\anaconda3\\Lib\\site-packages\\statsmodels\\tsa\\base\\tsa_model.py:473: ValueWarning: No frequency information was provided, so inferred frequency QS-OCT will be used.\n",
      "  self._init_dates(dates, freq)\n",
      "C:\\Users\\karth\\anaconda3\\Lib\\site-packages\\statsmodels\\tsa\\base\\tsa_model.py:473: ValueWarning: No frequency information was provided, so inferred frequency QS-OCT will be used.\n",
      "  self._init_dates(dates, freq)\n",
      "C:\\Users\\karth\\anaconda3\\Lib\\site-packages\\statsmodels\\tsa\\base\\tsa_model.py:473: ValueWarning: No frequency information was provided, so inferred frequency QS-OCT will be used.\n",
      "  self._init_dates(dates, freq)\n"
     ]
    },
    {
     "name": "stdout",
     "output_type": "stream",
     "text": [
      "ARIMA(3, 0, 2) - AIC:251.6929257681373\n"
     ]
    },
    {
     "name": "stderr",
     "output_type": "stream",
     "text": [
      "C:\\Users\\karth\\anaconda3\\Lib\\site-packages\\statsmodels\\tsa\\base\\tsa_model.py:473: ValueWarning: No frequency information was provided, so inferred frequency QS-OCT will be used.\n",
      "  self._init_dates(dates, freq)\n",
      "C:\\Users\\karth\\anaconda3\\Lib\\site-packages\\statsmodels\\tsa\\base\\tsa_model.py:473: ValueWarning: No frequency information was provided, so inferred frequency QS-OCT will be used.\n",
      "  self._init_dates(dates, freq)\n",
      "C:\\Users\\karth\\anaconda3\\Lib\\site-packages\\statsmodels\\tsa\\base\\tsa_model.py:473: ValueWarning: No frequency information was provided, so inferred frequency QS-OCT will be used.\n",
      "  self._init_dates(dates, freq)\n"
     ]
    },
    {
     "name": "stdout",
     "output_type": "stream",
     "text": [
      "ARIMA(3, 0, 3) - AIC:251.57756895221172\n"
     ]
    },
    {
     "name": "stderr",
     "output_type": "stream",
     "text": [
      "C:\\Users\\karth\\anaconda3\\Lib\\site-packages\\statsmodels\\base\\model.py:607: ConvergenceWarning: Maximum Likelihood optimization failed to converge. Check mle_retvals\n",
      "  warnings.warn(\"Maximum Likelihood optimization failed to \"\n"
     ]
    }
   ],
   "source": [
    "for pdq in pdq:\n",
    "    ARIMA_model=ARIMA(df_tr['HPI'],order=pdq).fit()\n",
    "    print('ARIMA{} - AIC:{}'.format(pdq,ARIMA_model.aic))\n",
    "    ARIMA_AIC = ARIMA_AIC.append({'param':pdq, 'AIC': ARIMA_model.aic}, ignore_index=True)"
   ]
  },
  {
   "cell_type": "markdown",
   "id": "a918bf32",
   "metadata": {},
   "source": [
    "The Below table shows the first 5 lowest AIC values and their parameters"
   ]
  },
  {
   "cell_type": "code",
   "execution_count": 168,
   "id": "67243705",
   "metadata": {},
   "outputs": [
    {
     "data": {
      "text/html": [
       "<div>\n",
       "<style scoped>\n",
       "    .dataframe tbody tr th:only-of-type {\n",
       "        vertical-align: middle;\n",
       "    }\n",
       "\n",
       "    .dataframe tbody tr th {\n",
       "        vertical-align: top;\n",
       "    }\n",
       "\n",
       "    .dataframe thead th {\n",
       "        text-align: right;\n",
       "    }\n",
       "</style>\n",
       "<table border=\"1\" class=\"dataframe\">\n",
       "  <thead>\n",
       "    <tr style=\"text-align: right;\">\n",
       "      <th></th>\n",
       "      <th>param</th>\n",
       "      <th>AIC</th>\n",
       "    </tr>\n",
       "  </thead>\n",
       "  <tbody>\n",
       "    <tr>\n",
       "      <th>10</th>\n",
       "      <td>(2, 0, 2)</td>\n",
       "      <td>249.743000</td>\n",
       "    </tr>\n",
       "    <tr>\n",
       "      <th>11</th>\n",
       "      <td>(2, 0, 3)</td>\n",
       "      <td>251.440779</td>\n",
       "    </tr>\n",
       "    <tr>\n",
       "      <th>15</th>\n",
       "      <td>(3, 0, 3)</td>\n",
       "      <td>251.577569</td>\n",
       "    </tr>\n",
       "    <tr>\n",
       "      <th>14</th>\n",
       "      <td>(3, 0, 2)</td>\n",
       "      <td>251.692926</td>\n",
       "    </tr>\n",
       "    <tr>\n",
       "      <th>13</th>\n",
       "      <td>(3, 0, 1)</td>\n",
       "      <td>251.886747</td>\n",
       "    </tr>\n",
       "  </tbody>\n",
       "</table>\n",
       "</div>"
      ],
      "text/plain": [
       "        param         AIC\n",
       "10  (2, 0, 2)  249.743000\n",
       "11  (2, 0, 3)  251.440779\n",
       "15  (3, 0, 3)  251.577569\n",
       "14  (3, 0, 2)  251.692926\n",
       "13  (3, 0, 1)  251.886747"
      ]
     },
     "execution_count": 168,
     "metadata": {},
     "output_type": "execute_result"
    }
   ],
   "source": [
    "ARIMA_AIC.sort_values(by='AIC',ascending=True).head()"
   ]
  },
  {
   "cell_type": "markdown",
   "id": "5d04e17d",
   "metadata": {},
   "source": [
    "**The best parameter based on AIC is (2,0,2) and ARIMA_auto model will be built based on these parametres**"
   ]
  },
  {
   "cell_type": "markdown",
   "id": "bc55bc3e",
   "metadata": {},
   "source": [
    "**ARIMA_auto model using best parameter**"
   ]
  },
  {
   "cell_type": "code",
   "execution_count": 177,
   "id": "ebd2ea36",
   "metadata": {},
   "outputs": [
    {
     "name": "stderr",
     "output_type": "stream",
     "text": [
      "C:\\Users\\karth\\anaconda3\\Lib\\site-packages\\statsmodels\\tsa\\base\\tsa_model.py:473: ValueWarning: No frequency information was provided, so inferred frequency QS-OCT will be used.\n",
      "  self._init_dates(dates, freq)\n",
      "C:\\Users\\karth\\anaconda3\\Lib\\site-packages\\statsmodels\\tsa\\base\\tsa_model.py:473: ValueWarning: No frequency information was provided, so inferred frequency QS-OCT will be used.\n",
      "  self._init_dates(dates, freq)\n",
      "C:\\Users\\karth\\anaconda3\\Lib\\site-packages\\statsmodels\\tsa\\base\\tsa_model.py:473: ValueWarning: No frequency information was provided, so inferred frequency QS-OCT will be used.\n",
      "  self._init_dates(dates, freq)\n"
     ]
    },
    {
     "name": "stdout",
     "output_type": "stream",
     "text": [
      "                               SARIMAX Results                                \n",
      "==============================================================================\n",
      "Dep. Variable:                    HPI   No. Observations:                   79\n",
      "Model:                 ARIMA(2, 0, 2)   Log Likelihood                -118.871\n",
      "Date:                Sun, 01 Oct 2023   AIC                            249.743\n",
      "Time:                        16:25:50   BIC                            263.960\n",
      "Sample:                    01-01-2000   HQIC                           255.439\n",
      "                         - 07-01-2019                                         \n",
      "Covariance Type:                  opg                                         \n",
      "==============================================================================\n",
      "                 coef    std err          z      P>|z|      [0.025      0.975]\n",
      "------------------------------------------------------------------------------\n",
      "const        156.9336     15.550     10.092      0.000     126.457     187.410\n",
      "ar.L1          1.9382      0.047     41.495      0.000       1.847       2.030\n",
      "ar.L2         -0.9449      0.048    -19.498      0.000      -1.040      -0.850\n",
      "ma.L1          0.2362      0.109      2.165      0.030       0.022       0.450\n",
      "ma.L2         -0.2360      0.115     -2.058      0.040      -0.461      -0.011\n",
      "sigma2         1.0501      0.157      6.699      0.000       0.743       1.357\n",
      "===================================================================================\n",
      "Ljung-Box (L1) (Q):                   0.02   Jarque-Bera (JB):                 5.05\n",
      "Prob(Q):                              0.88   Prob(JB):                         0.08\n",
      "Heteroskedasticity (H):               0.61   Skew:                            -0.18\n",
      "Prob(H) (two-sided):                  0.21   Kurtosis:                         4.18\n",
      "===================================================================================\n",
      "\n",
      "Warnings:\n",
      "[1] Covariance matrix calculated using the outer product of gradients (complex-step).\n"
     ]
    },
    {
     "name": "stderr",
     "output_type": "stream",
     "text": [
      "C:\\Users\\karth\\anaconda3\\Lib\\site-packages\\statsmodels\\base\\model.py:607: ConvergenceWarning: Maximum Likelihood optimization failed to converge. Check mle_retvals\n",
      "  warnings.warn(\"Maximum Likelihood optimization failed to \"\n"
     ]
    }
   ],
   "source": [
    "ARIMA_auto = ARIMA(df_tr, order=(2,0,2))\n",
    "\n",
    "results_ARIMA_auto  = ARIMA_auto.fit()\n",
    "\n",
    "print(results_ARIMA_auto.summary())"
   ]
  },
  {
   "cell_type": "markdown",
   "id": "30189711",
   "metadata": {},
   "source": [
    "In summary we can see that, lag one & two of AR and lag one,two  & three of MA are significant, since p_alue is lesser than 0.05"
   ]
  },
  {
   "cell_type": "markdown",
   "id": "f618c7da",
   "metadata": {},
   "source": [
    "###  Test Prediction by ARIMA\n",
    "\n",
    "The below plot shows the prediction of test data by ARIMA"
   ]
  },
  {
   "cell_type": "code",
   "execution_count": 180,
   "id": "94ebdb11",
   "metadata": {},
   "outputs": [],
   "source": [
    "ARIMA_pred = results_ARIMA_auto.forecast(steps=len(df_ts))"
   ]
  },
  {
   "cell_type": "code",
   "execution_count": 181,
   "id": "d979d9cb",
   "metadata": {},
   "outputs": [
    {
     "data": {
      "image/png": "[encoded data removed]",
      "text/plain": [
       "<Figure size 1500x600 with 1 Axes>"
      ]
     },
     "metadata": {},
     "output_type": "display_data"
    }
   ],
   "source": [
    "plt.plot(df_tr,label=\"Train\")\n",
    "plt.plot(df_ts,label=\"Test\")\n",
    "plt.plot(ARIMA_pred, label='ARIMA_auto model on Test Data')\n",
    "plt.title('Test Prediction by ARIMA_auto model',fontsize=15,y=1.05,color='b',weight='bold')\n",
    "plt.legend(loc='best')\n",
    "plt.grid();"
   ]
  },
  {
   "cell_type": "code",
   "execution_count": 182,
   "id": "30e35891",
   "metadata": {},
   "outputs": [
    {
     "data": {
      "text/plain": [
       "68.81444521008481"
      ]
     },
     "execution_count": 182,
     "metadata": {},
     "output_type": "execute_result"
    }
   ],
   "source": [
    "ARIMA_RMSE= metrics.mean_squared_error(df_ts,ARIMA_pred,squared=False)\n",
    "ARIMA_RMSE"
   ]
  },
  {
   "cell_type": "markdown",
   "id": "39551832",
   "metadata": {},
   "source": [
    "**The RMSE value on test data for ARIMA model is 68.81**"
   ]
  },
  {
   "cell_type": "code",
   "execution_count": null,
   "id": "d25d7f35",
   "metadata": {},
   "outputs": [],
   "source": []
  }
 ],
 "metadata": {
  "kernelspec": {
   "display_name": "Python 3 (ipykernel)",
   "language": "python",
   "name": "python3"
  },
  "language_info": {
   "codemirror_mode": {
    "name": "ipython",
    "version": 3
   },
   "file_extension": ".py",
   "mimetype": "text/x-python",
   "name": "python",
   "nbconvert_exporter": "python",
   "pygments_lexer": "ipython3",
   "version": "3.11.4"
  }
 },
 "nbformat": 4,
 "nbformat_minor": 5
}
